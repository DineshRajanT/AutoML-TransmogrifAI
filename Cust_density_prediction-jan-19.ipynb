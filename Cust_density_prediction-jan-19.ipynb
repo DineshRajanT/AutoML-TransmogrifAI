{
 "cells": [
  {
   "cell_type": "code",
   "execution_count": 1,
   "metadata": {},
   "outputs": [
    {
     "data": {
      "application/vnd.jupyter.widget-view+json": {
       "model_id": "",
       "version_major": 2,
       "version_minor": 0
      },
      "method": "display_data"
     },
     "metadata": {},
     "output_type": "display_data"
    },
    {
     "data": {
      "application/vnd.jupyter.widget-view+json": {
       "model_id": "b68bd321-9a4a-4296-b352-146469f47777",
       "version_major": 2,
       "version_minor": 0
      },
      "method": "display_data"
     },
     "metadata": {},
     "output_type": "display_data"
    }
   ],
   "source": [
    "%classpath add mvn com.salesforce.transmogrifai transmogrifai-core_2.11 0.5.3\n"
   ]
  },
  {
   "cell_type": "code",
   "execution_count": 2,
   "metadata": {},
   "outputs": [
    {
     "data": {
      "application/vnd.jupyter.widget-view+json": {
       "model_id": "",
       "version_major": 2,
       "version_minor": 0
      },
      "method": "display_data"
     },
     "metadata": {},
     "output_type": "display_data"
    },
    {
     "data": {
      "application/vnd.jupyter.widget-view+json": {
       "model_id": "d0ac0a94-8338-45f8-b9a7-d6ed8eb71e1b",
       "version_major": 2,
       "version_minor": 0
      },
      "method": "display_data"
     },
     "metadata": {},
     "output_type": "display_data"
    }
   ],
   "source": [
    "%classpath add mvn org.apache.spark spark-mllib_2.11 2.3.3"
   ]
  },
  {
   "cell_type": "markdown",
   "metadata": {},
   "source": [
    "**Import the classes**"
   ]
  },
  {
   "cell_type": "code",
   "execution_count": 3,
   "metadata": {},
   "outputs": [
    {
     "data": {
      "text/plain": [
       "import org.apache.spark.SparkConf\n",
       "import org.apache.spark.sql.SparkSession\n",
       "import org.apache.spark.SparkContext\n",
       "import org.apache.spark.sql.functions.udf\n",
       "import com.salesforce.op._\n",
       "import com.salesforce.op.features._\n",
       "import com.salesforce.op.features.types._\n",
       "import com.salesforce.op.evaluators.Evaluators\n"
      ]
     },
     "execution_count": 3,
     "metadata": {},
     "output_type": "execute_result"
    }
   ],
   "source": [
    "import org.apache.spark.SparkConf\n",
    "import org.apache.spark.sql.SparkSession\n",
    "import org.apache.spark.SparkContext\n",
    "import org.apache.spark.sql.functions.udf\n",
    "\n",
    "import com.salesforce.op._\n",
    "import com.salesforce.op.features._\n",
    "import com.salesforce.op.features.types._\n",
    "import com.salesforce.op.evaluators.Evaluators"
   ]
  },
  {
   "cell_type": "code",
   "execution_count": 4,
   "metadata": {},
   "outputs": [
    {
     "data": {
      "text/plain": [
       "import com.salesforce.op.OpWorkflow\n",
       "import com.salesforce.op.evaluators.Evaluators\n",
       "import com.salesforce.op.readers.DataReaders\n"
      ]
     },
     "execution_count": 4,
     "metadata": {},
     "output_type": "execute_result"
    }
   ],
   "source": [
    "import com.salesforce.op.OpWorkflow\n",
    "import com.salesforce.op.evaluators.Evaluators\n",
    "import com.salesforce.op.readers.DataReaders"
   ]
  },
  {
   "cell_type": "code",
   "execution_count": 5,
   "metadata": {},
   "outputs": [
    {
     "data": {
      "text/plain": [
       "import java.io.Serializable\n"
      ]
     },
     "execution_count": 5,
     "metadata": {},
     "output_type": "execute_result"
    }
   ],
   "source": [
    "import java.io.Serializable"
   ]
  },
  {
   "cell_type": "markdown",
   "metadata": {},
   "source": [
    "Instantiate a SparkSession"
   ]
  },
  {
   "cell_type": "code",
   "execution_count": 6,
   "metadata": {},
   "outputs": [
    {
     "data": {
      "text/plain": [
       "org.apache.spark.sql.SparkSession@2afc1856"
      ]
     },
     "execution_count": 6,
     "metadata": {},
     "output_type": "execute_result"
    }
   ],
   "source": [
    "val conf = new SparkConf().setMaster(\"local[*]\").setAppName(\"Taxi-cust-density\")\n",
    "implicit val spark = SparkSession.builder.config(conf).getOrCreate()"
   ]
  },
  {
   "cell_type": "markdown",
   "metadata": {},
   "source": [
    "### Schema class\n",
    "Let us create a case class to describe the schema for the data:"
   ]
  },
  {
   "cell_type": "code",
   "execution_count": 7,
   "metadata": {},
   "outputs": [
    {
     "data": {
      "text/plain": [
       "defined class Taxi_prediction\n"
      ]
     },
     "execution_count": 7,
     "metadata": {},
     "output_type": "execute_result"
    }
   ],
   "source": [
    "\n",
    "case class Taxi_prediction(\n",
    "\n",
    "    pickup_lat:String,\n",
    "    pickup_long:String,\n",
    "    date_col:String,\n",
    "    day_of_the_week:String,\n",
    "    OnHour:Int,\n",
    "    cust_density:Int\n",
    "    \n",
    ")"
   ]
  },
  {
   "cell_type": "markdown",
   "metadata": {},
   "source": [
    "#### Feature Engineering\n",
    "\n",
    "We then define the set of raw features that we would like to extract from the data. The \n",
    "raw features are defined using [FeatureBuilders](https://docs.transmogrif.ai/Developer-Guide#featurebuilders), \n",
    "and are strongly typed. TransmogrifAI supports the following basic feature types: `Text`, \n",
    "`Numeric`, `Vector`, `List` , `Set`, `Map`. In addition it supports many specific feature \n",
    "types which extend these base types: Email extends Text; Integral, Real and Binary extend \n",
    "Numeric; Currency and Percentage extend Real. For a complete view of the types supported \n",
    "see the Type Hierarchy and Automatic Feature Engineering section in the Documentation.\n",
    "\n",
    "Basic `FeatureBuilders` will be created for you if you use the TransmogrifAI CLI to bootstrap \n",
    "your project as described here. However, it is often useful to edit this code to customize \n",
    "feature generation and take full advantage of the Feature types available (selecting the \n",
    "appropriate type will improve automatic feature engineering steps).\n",
    "When defining raw features, specify the extract logic to be applied to the raw data, and \n",
    "also annotate the features as either predictor or response variables via the FeatureBuilders:\n"
   ]
  },
  {
   "cell_type": "code",
   "execution_count": 8,
   "metadata": {},
   "outputs": [
    {
     "data": {
      "text/plain": [
       "class[pickup_lat[0]: string, pickup_long[0]: string, date_col[0]: string, day_of_the_week[0]: string, OnHour[0]: int, cust_density[0]: int]"
      ]
     },
     "execution_count": 8,
     "metadata": {},
     "output_type": "execute_result"
    }
   ],
   "source": [
    "import org.apache.spark.sql.{Encoders}\n",
    "implicit val srEncoder = Encoders.product[Taxi_prediction]"
   ]
  },
  {
   "cell_type": "code",
   "execution_count": 9,
   "metadata": {},
   "outputs": [
    {
     "data": {
      "text/plain": [
       "null"
      ]
     },
     "execution_count": 9,
     "metadata": {},
     "output_type": "execute_result"
    }
   ],
   "source": [
    "// val tpep_pickup_datetime = FeatureBuilder.Text[Taxi].extract(_.tpep_pickup_datetime.toText).asPredictor\n",
    "// val tpep_dropoff_datetime = FeatureBuilder.Text[Taxi].extract(_.tpep_dropoff_datetime.toText).asPredictor"
   ]
  },
  {
   "cell_type": "code",
   "execution_count": 10,
   "metadata": {},
   "outputs": [
    {
     "data": {
      "text/plain": [
       "$line31.$read$$iw$$iw$$iw$$iw$$iw$$iw$$iw$$iw$$iw$$iw$$iw$$iw$$iw$$iw$$iw$$iw$$iw$$iw$$iw$$iw$$iw$$iw$$iw$$iw$$iw$$iw$$iw$Extractors$@25c00897"
      ]
     },
     "execution_count": 10,
     "metadata": {},
     "output_type": "execute_result"
    }
   ],
   "source": [
    "object Extractors extends Serializable {\n",
    "    class pickup_lat_extractor extends Function[Taxi_prediction,Text] with Serializable {\n",
    "      def apply(i:Taxi_prediction): Text = i.pickup_lat.toText\n",
    "   }\n",
    "    class pickup_long_extractor extends Function[Taxi_prediction,Text] with Serializable {\n",
    "      def apply(o:Taxi_prediction): Text = o.pickup_long.toText\n",
    "   }\n",
    "    \n",
    "    class date_col_extractor extends Function[Taxi_prediction,Text] with Serializable {\n",
    "      def apply(o:Taxi_prediction): Text = o.date_col.toText\n",
    "   }\n",
    "     class day_of_the_week_extractor extends Function[Taxi_prediction,Text] with Serializable {\n",
    "      def apply(o:Taxi_prediction): Text = o.day_of_the_week.toText\n",
    "   }\n",
    "     class OnHour_extractor extends Function[Taxi_prediction,Real] with Serializable {\n",
    "      def apply(o:Taxi_prediction): Real = o.OnHour.toReal\n",
    "   }\n",
    "     class cust_density_extractor extends Function[Taxi_prediction,RealNN] with Serializable {\n",
    "      def apply(o:Taxi_prediction): RealNN = o.cust_density.toRealNN\n",
    "   }\n",
    "    \n",
    "//     class total_amount_extractor extends Function[Taxi,RealNN] with Serializable {\n",
    "//       def apply(o:Taxi): RealNN = o.total_amount.toRealNN\n",
    "//    }\n",
    "    \n",
    "    //add more features here if needed....\n",
    "       \n",
    "}"
   ]
  },
  {
   "cell_type": "code",
   "execution_count": 11,
   "metadata": {},
   "outputs": [
    {
     "data": {
      "text/plain": [
       "null"
      ]
     },
     "execution_count": 11,
     "metadata": {},
     "output_type": "execute_result"
    }
   ],
   "source": [
    "// val passenger_count = FeatureBuilder.Integral[Taxi].extract(_.passenger_count.toIntegral).asPredictor"
   ]
  },
  {
   "cell_type": "code",
   "execution_count": 12,
   "metadata": {},
   "outputs": [
    {
     "data": {
      "text/plain": [
       "null"
      ]
     },
     "execution_count": 12,
     "metadata": {},
     "output_type": "execute_result"
    }
   ],
   "source": [
    "// val trip_distance = FeatureBuilder.Real[Taxi].extract(_.trip_distance.toReal).asPredictor"
   ]
  },
  {
   "cell_type": "code",
   "execution_count": 13,
   "metadata": {},
   "outputs": [
    {
     "data": {
      "text/plain": [
       "null"
      ]
     },
     "execution_count": 13,
     "metadata": {},
     "output_type": "execute_result"
    }
   ],
   "source": [
    "// val pickup_long = FeatureBuilder.Text[Taxi].extract(_.pickup_long.toText).asPredictor\n",
    "// val pickup_lat = FeatureBuilder.Text[Taxi].extract(_.pickup_lat.toText).asPredictor"
   ]
  },
  {
   "cell_type": "code",
   "execution_count": 14,
   "metadata": {},
   "outputs": [
    {
     "data": {
      "text/plain": [
       "$line31.$read$$iw$$iw$$iw$$iw$$iw$$iw$$iw$$iw$$iw$$iw$$iw$$iw$$iw$$iw$$iw$$iw$$iw$$iw$$iw$$iw$$iw$$iw$$iw$$iw$$iw$$iw$$iw$Extractors$@25c00897"
      ]
     },
     "execution_count": 14,
     "metadata": {},
     "output_type": "execute_result"
    }
   ],
   "source": [
    "import Extractors._\n",
    "\n",
    "val pickup_lat = FeatureBuilder.Text[Taxi_prediction].extract(new pickup_lat_extractor).asPredictor\n",
    "val pickup_long = FeatureBuilder.Text[Taxi_prediction].extract(new pickup_long_extractor).asPredictor\n",
    "val date_col  =    FeatureBuilder.Text[Taxi_prediction].extract(new date_col_extractor).asPredictor\n",
    "val day_of_the_week= FeatureBuilder.Text[Taxi_prediction].extract(new day_of_the_week_extractor).asPredictor\n",
    "val OnHour = FeatureBuilder.Real[Taxi_prediction].extract(new OnHour_extractor).asPredictor\n",
    "val cust_density= FeatureBuilder.RealNN[Taxi_prediction].extract(new cust_density_extractor).asResponse\n",
    "\n",
    "\n"
   ]
  },
  {
   "cell_type": "code",
   "execution_count": 15,
   "metadata": {},
   "outputs": [
    {
     "data": {
      "text/plain": [
       "null"
      ]
     },
     "execution_count": 15,
     "metadata": {},
     "output_type": "execute_result"
    }
   ],
   "source": [
    "// val dropoff_long= FeatureBuilder.Text[Taxi].extract(_.dropoff_long.toText).asPredictor\n",
    "// val dropoff_lat = FeatureBuilder.Text[Taxi].extract(_.dropoff_lat.toText).asPredictor"
   ]
  },
  {
   "cell_type": "code",
   "execution_count": 16,
   "metadata": {},
   "outputs": [
    {
     "data": {
      "text/plain": [
       "null"
      ]
     },
     "execution_count": 16,
     "metadata": {},
     "output_type": "execute_result"
    }
   ],
   "source": [
    "// val total_amount = FeatureBuilder.RealNN[Taxi].extract(_.total_amount.toRealNN).asResponse"
   ]
  },
  {
   "cell_type": "code",
   "execution_count": 17,
   "metadata": {},
   "outputs": [
    {
     "data": {
      "text/plain": [
       "null"
      ]
     },
     "execution_count": 17,
     "metadata": {},
     "output_type": "execute_result"
    }
   ],
   "source": [
    "//  val total_amount1 =total_amount.fillMissingWithMean().zNormalize()"
   ]
  },
  {
   "cell_type": "code",
   "execution_count": 18,
   "metadata": {},
   "outputs": [
    {
     "data": {
      "text/plain": [
       "/home/whirldata/Documents/moving/half_Data.csv"
      ]
     },
     "execution_count": 18,
     "metadata": {},
     "output_type": "execute_result"
    }
   ],
   "source": [
    " val trainFilePath = \"/home/whirldata/Documents/moving/half_Data.csv\""
   ]
  },
  {
   "cell_type": "markdown",
   "metadata": {},
   "source": [
    "Create a training data reader from the `trainFilePath` using `DataReaders.Simple`"
   ]
  },
  {
   "cell_type": "code",
   "execution_count": 19,
   "metadata": {},
   "outputs": [
    {
     "data": {
      "text/plain": [
       "com.salesforce.op.readers.CSVProductReader@4b9df32d"
      ]
     },
     "execution_count": 19,
     "metadata": {},
     "output_type": "execute_result"
    }
   ],
   "source": [
    "val trainDataReader = DataReaders.Simple.csvCase[Taxi_prediction](\n",
    "      path = Option(trainFilePath)\n",
    "    )"
   ]
  },
  {
   "cell_type": "markdown",
   "metadata": {},
   "source": [
    "### Create a feature sequence and transmogrify it\n",
    "\n",
    "`.transmogrify()` is a Transmografai shortcut to many estimators. This is in essence the automatic feature engineering Stage of TransmogrifAI. This stage can be discarded in favor of hand-tuned feature engineering and manual vector creation followed by combination using the VectorsCombiner Transformer (short-hand Seq(....).combine()) if the user desires to have complete control over feature engineering.\n",
    "\n",
    "The next stage applies another powerful transmogrifai Estimator — the SanityChecker. The SanityChecker applies a variety of statistical tests to the data based on Feature types and discards predictors that are indicative of label leakage or that show little to no predictive power. This is in essence the automatic feature selection Stage of TransmogrifAI:"
   ]
  },
  {
   "cell_type": "code",
   "execution_count": 20,
   "metadata": {},
   "outputs": [
    {
     "data": {
      "text/plain": [
       "DataSplitter_00000000000a"
      ]
     },
     "execution_count": 20,
     "metadata": {},
     "output_type": "execute_result"
    }
   ],
   "source": [
    "import com.salesforce.op.stages.impl.tuning.{DataCutter, DataSplitter}\n",
    "val features = Seq(pickup_lat,pickup_long,date_col,day_of_the_week,OnHour).transmogrify()\n",
    "val randomSeed = 42L\n",
    "val splitter = DataSplitter(seed = randomSeed)"
   ]
  },
  {
   "cell_type": "code",
   "execution_count": 21,
   "metadata": {},
   "outputs": [
    {
     "data": {
      "text/plain": [
       "null"
      ]
     },
     "execution_count": 21,
     "metadata": {},
     "output_type": "execute_result"
    }
   ],
   "source": [
    "// val label = total_amount1\n",
    "// val checkedFeatures = label.sanityCheck(features, removeBadFeatures = true)"
   ]
  },
  {
   "cell_type": "code",
   "execution_count": 22,
   "metadata": {
    "scrolled": true
   },
   "outputs": [],
   "source": [
    "println(features)"
   ]
  },
  {
   "cell_type": "markdown",
   "metadata": {},
   "source": [
    "### Model selector\n",
    "Create a prediction(model) based on RegressionModelSelector. We are using Gradient Boosted Trees and Random Forest. Notice how input is applied  of `salesPrice` and `features`."
   ]
  },
  {
   "cell_type": "code",
   "execution_count": 23,
   "metadata": {},
   "outputs": [
    {
     "data": {
      "text/plain": [
       "Feature(name = OnHour-cust_density-date_col-day_of_the_week-pickup_lat-pickup_long_4-stagesApplied_Prediction_000000000013, uid = Prediction_000000000013, isResponse = true, originStage = ModelSelector_000000000013, parents = [RealNN_000000000006,OPVector_000000000009], distributions = [])"
      ]
     },
     "execution_count": 23,
     "metadata": {},
     "output_type": "execute_result"
    }
   ],
   "source": [
    "import com.salesforce.op.stages.impl.regression.RegressionModelSelector\n",
    "import com.salesforce.op.stages.impl.regression.RegressionModelsToTry.{OpGBTRegressor, OpDecisionTreeRegressor}\n",
    "\n",
    "val prediction1 = RegressionModelSelector\n",
    "      .withCrossValidation(\n",
    "        dataSplitter = Some(splitter), seed = randomSeed,\n",
    "        modelTypesToUse = Seq(OpGBTRegressor, OpDecisionTreeRegressor)\n",
    "      ).setInput(cust_density,features).getOutput()"
   ]
  },
  {
   "cell_type": "markdown",
   "metadata": {},
   "source": [
    "Create an evaluator of type Regression and call setLabelCol and setPredictionCol"
   ]
  },
  {
   "cell_type": "code",
   "execution_count": 24,
   "metadata": {},
   "outputs": [
    {
     "data": {
      "text/plain": [
       "OpRegressionEvaluator_000000000014"
      ]
     },
     "execution_count": 24,
     "metadata": {},
     "output_type": "execute_result"
    }
   ],
   "source": [
    "val evaluator = Evaluators.Regression().setLabelCol(cust_density).setPredictionCol(prediction1)"
   ]
  },
  {
   "cell_type": "markdown",
   "metadata": {},
   "source": [
    "### Workflow  and WorkflowModel\n",
    "\n",
    "Workflow for TransmogrifAI. Takes the final features that the user wants to generate as \n",
    "inputs and constructs the full DAG needed to generate them from those features lineage. \n",
    "Then fits any estimators in the pipeline dag to create a sequence of transformations that \n",
    "are saved in a workflow model.\n",
    "When we now call `train` on this workflow, it automatically computes and executes the \n",
    "entire DAG of Stages needed to compute the features fitting all the estimators on the training data in the process. \n",
    "Calling score on the fitted workflow then transforms the underlying training data to \n",
    "produce a DataFrame with the all the features manifested. The score method can optionally \n",
    "be passed an evaluator that produces metrics.\n",
    "`workflow.train()` methods fits all of the estimators in the pipeline and return a \n",
    "pipeline model of only transformers. Uses data loaded as specified by the data reader to \n",
    "generate the initial data set."
   ]
  },
  {
   "cell_type": "code",
   "execution_count": 25,
   "metadata": {},
   "outputs": [
    {
     "data": {
      "text/plain": [
       "com.salesforce.op.OpWorkflow@174f33d6"
      ]
     },
     "execution_count": 25,
     "metadata": {},
     "output_type": "execute_result"
    }
   ],
   "source": [
    "val workflow = new OpWorkflow(\"abc\").setResultFeatures(prediction1, cust_density).setReader(trainDataReader)\n"
   ]
  },
  {
   "cell_type": "code",
   "execution_count": 26,
   "metadata": {},
   "outputs": [
    {
     "data": {
      "text/plain": [
       "null"
      ]
     },
     "execution_count": 26,
     "metadata": {},
     "output_type": "execute_result"
    }
   ],
   "source": [
    "// val workflowModel = workflow.train()\n",
    "// val workflowModel: OpWorkflowModel = workflow.train()"
   ]
  },
  {
   "cell_type": "code",
   "execution_count": 27,
   "metadata": {},
   "outputs": [
    {
     "data": {
      "text/plain": [
       "null"
      ]
     },
     "execution_count": 27,
     "metadata": {},
     "output_type": "execute_result"
    }
   ],
   "source": [
    "// workflowModel.save(path =\"qqq/taxi_0.6.1_spark-2.3.3_cust_density\", overwrite = true)"
   ]
  },
  {
   "cell_type": "code",
   "execution_count": 28,
   "metadata": {},
   "outputs": [
    {
     "data": {
      "text/plain": [
       "null"
      ]
     },
     "execution_count": 28,
     "metadata": {},
     "output_type": "execute_result"
    }
   ],
   "source": [
    "// val testDataReader = DataReaders.Simple.avro[Passenger](key = _.passengerId, path = Some(\"my/test/data/path\")) // simply reads and returns data\n",
    "// val scoredTestData = workflowModel.setReader(testDataReader).score()"
   ]
  },
  {
   "cell_type": "code",
   "execution_count": 41,
   "metadata": {},
   "outputs": [
    {
     "data": {
      "text/plain": [
       "com.salesforce.op.OpWorkflowModel@51485629"
      ]
     },
     "execution_count": 41,
     "metadata": {},
     "output_type": "execute_result"
    }
   ],
   "source": [
    "// val model=workflow.loadModel(path = \"/home/whirldata/Documents/moving/from_server/savings/taxi_0.5.3_spark-2.3.3_cust_density/\")\n",
    "val workflowModel= workflow.loadModel(path = \"/home/whirldata/Documents/moving/from_server/savings/taxi_0.5.3_spark-2.3.3_cust_density\")"
   ]
  },
  {
   "cell_type": "code",
   "execution_count": 106,
   "metadata": {},
   "outputs": [
    {
     "data": {
      "text/plain": [
       "null"
      ]
     },
     "execution_count": 106,
     "metadata": {},
     "output_type": "execute_result"
    }
   ],
   "source": [
    "// val model=OpWorkflow.load(path =\"recent_models/taxi_0.5.3_spark-2.3.0\")\n",
    "// // val Model=workflow.load(path =\"recent_models/taxi_0.5.3_spark-2.3.0\")"
   ]
  },
  {
   "cell_type": "code",
   "execution_count": 27,
   "metadata": {},
   "outputs": [
    {
     "data": {
      "text/plain": [
       "com.salesforce.op.OpWorkflowModel@55a31747"
      ]
     },
     "execution_count": 27,
     "metadata": {},
     "output_type": "execute_result"
    }
   ],
   "source": [
    "// val workflowModel = workflow.loadModel(\"qqq/taxi_0.6.1_spark-2.3.3\")//Important........."
   ]
  },
  {
   "cell_type": "code",
   "execution_count": 42,
   "metadata": {},
   "outputs": [
    {
     "data": {
      "text/plain": [
       "[key: string, cust_density: double ... 1 more field]"
      ]
     },
     "execution_count": 42,
     "metadata": {},
     "output_type": "execute_result"
    }
   ],
   "source": [
    "val testDataReader = DataReaders.Simple.csvCase[Taxi_prediction](path = Some(\"/home/whirldata/Documents/moving/testing_tail_data.csv\")) \n",
    "val scoredTestData = workflowModel.setReader(testDataReader).score()"
   ]
  },
  {
   "cell_type": "code",
   "execution_count": 44,
   "metadata": {},
   "outputs": [
    {
     "data": {
      "text/plain": [
       "[key: string, cust_density: double ... 1 more field]"
      ]
     },
     "execution_count": 44,
     "metadata": {},
     "output_type": "execute_result"
    }
   ],
   "source": []
  },
  {
   "cell_type": "code",
   "execution_count": 43,
   "metadata": {},
   "outputs": [
    {
     "data": {
      "text/plain": [
       "{\n",
       "  \"RootMeanSquaredError\" : 4.512998821812766,\n",
       "  \"MeanSquaredError\" : 20.367158365683412,\n",
       "  \"R2\" : 0.015603752262764004,\n",
       "  \"MeanAbsoluteError\" : 3.9139585980963303\n",
       "}"
      ]
     },
     "execution_count": 43,
     "metadata": {},
     "output_type": "execute_result"
    }
   ],
   "source": [
    "val dfScoreAndEvaluate = workflowModel.scoreAndEvaluate(evaluator)\n",
    "val dfScore = dfScoreAndEvaluate._1.\n",
    "    withColumnRenamed(\"\",\n",
    "    \"predicted_total_amount\")\n",
    "val dfEvaluate = dfScoreAndEvaluate._2"
   ]
  },
  {
   "cell_type": "code",
   "execution_count": 34,
   "metadata": {},
   "outputs": [],
   "source": [
    "println(workflowModel)"
   ]
  },
  {
   "cell_type": "code",
   "execution_count": 35,
   "metadata": {},
   "outputs": [
    {
     "data": {
      "text/plain": [
       "{\n",
       "  \"ModelSelector_000000000013\" : {\n",
       "    \"ValidationResults\" : [ {\n",
       "      \"ModelName\" : \"OpLinearRegression_00000000000d_0\",\n",
       "      \"ModelParameters\" : {\n",
       "        \"elasticNetParam\" : 0.1,\n",
       "        \"outputFeatureName\" : \"OnHour-cust_density-date_col-day_of_the_week-pickup_lat-pickup_long_4-stagesApplied_Prediction_000000000013\",\n",
       "        \"inputSchema\" : \"StructType()\",\n",
       "        \"sparkMlStage\" : \"org.apache.spark.ml.regression.LinearRegression\",\n",
       "        \"featuresCol\" : \"features\",\n",
       "        \"outputMetadata\" : { },\n",
       "        \"fitIntercept\" : true,\n",
       "        \"solver\" : \"auto\",\n",
       "        \"labelCol\" : \"label\",\n",
       "        \"inputFeatures\" : [ \"{\\n  \\\"name\\\" : \\\"cust_density\\\",\\n  \\\"isResponse\\\" : true,\\n  \\\"isRaw\\\" : true,\\n  \\\"uid\\\" : \\\"RealNN_00000000001c\\\",\\n  \\\"typeName\\\" : \\\"com.salesforce.op.features.types.RealNN\\\",\\n  \\\"originFeatures\\\" : [ \\\"cust_density\\\" ],\\n  \\\"stages\\\" : [ ]\\n}\", \"{\\n  \\\"name\\\" : \\\"OnHour-date_col-day_of_the_week-pickup_lat-pickup_long_3-stagesApplied_OPVector_000000000009\\\",\\n  \\\"isResponse\\\" : false,\\n  \\\"isRaw\\\" : true,\\n  \\\"uid\\\" : \\\"OPVector_000000000020\\\",\\n  \\\"typeName\\\" : \\\"com.salesforce.op.features.types.OPVector\\\",\\n  \\\"originFeatures\\\" : [ \\\"OnHour-date_col-day_of_the_week-pickup_lat-pickup_long_3-stagesApplied_OPVector_000000000009\\\" ],\\n  \\\"stages\\\" : [ ]\\n}\" ],\n",
       "        \"predictionCol\" : \"prediction\",\n",
       "        \"standardization\" : true,\n",
       "        \"regParam\" : 0.001,\n",
       "        \"tol\" : 1.0E-6,\n",
       "        \"maxIter\" : 50,\n",
       "        \"aggregationDepth\" : 2\n",
       "      },\n",
       "      \"ModelUID\" : \"OpLinearRegression_00000000000d\",\n",
       "      \"ModelType\" : \"OpLinearRegression\",\n",
       "      \"MetricValues\" : [ \"com.salesforce.op.evaluators.SingleMetric\", \"{\\\"name\\\":\\\"root mean square error\\\",\\\"value\\\":9.3067537580278}\" ]\n",
       "    }, {\n",
       "      \"ModelName\" : \"OpLinearRegression_00000000000d_1\",\n",
       "      \"ModelParameters\" : {\n",
       "        \"elasticNetParam\" : 0.5,\n",
       "        \"outputFeatureName\" : \"OnHour-cust_density-date_col-day_of_the_week-pickup_lat-pickup_long_4-stagesApplied_Prediction_000000000013\",\n",
       "        \"inputSchema\" : \"StructType()\",\n",
       "        \"sparkMlStage\" : \"org.apache.spark.ml.regression.LinearRegression\",\n",
       "        \"featuresCol\" : \"features\",\n",
       "        \"outputMetadata\" : { },\n",
       "        \"fitIntercept\" : true,\n",
       "        \"solver\" : \"auto\",\n",
       "        \"labelCol\" : \"label\",\n",
       "        \"inputFeatures\" : [ \"{\\n  \\\"name\\\" : \\\"cust_density\\\",\\n  \\\"isResponse\\\" : true,\\n  \\\"isRaw\\\" : true,\\n  \\\"uid\\\" : \\\"RealNN_00000000001c\\\",\\n  \\\"typeName\\\" : \\\"com.salesforce.op.features.types.RealNN\\\",\\n  \\\"originFeatures\\\" : [ \\\"cust_density\\\" ],\\n  \\\"stages\\\" : [ ]\\n}\", \"{\\n  \\\"name\\\" : \\\"OnHour-date_col-day_of_the_week-pickup_lat-pickup_long_3-stagesApplied_OPVector_000000000009\\\",\\n  \\\"isResponse\\\" : false,\\n  \\\"isRaw\\\" : true,\\n  \\\"uid\\\" : \\\"OPVector_000000000020\\\",\\n  \\\"typeName\\\" : \\\"com.salesforce.op.features.types.OPVector\\\",\\n  \\\"originFeatures\\\" : [ \\\"OnHour-date_col-day_of_the_week-pickup_lat-pickup_long_3-stagesApplied_OPVector_000000000009\\\" ],\\n  \\\"stages\\\" : [ ]\\n}\" ],\n",
       "        \"predictionCol\" : \"prediction\",\n",
       "        \"standardization\" : true,\n",
       "        \"regParam\" : 0.001,\n",
       "        \"tol\" : 1.0E-6,\n",
       "        \"maxIter\" : 50,\n",
       "        \"aggregationDepth\" : 2\n",
       "      },\n",
       "      \"ModelUID\" : \"OpLinearRegression_00000000000d\",\n",
       "      \"ModelType\" : \"OpLinearRegression\",\n",
       "      \"MetricValues\" : [ \"com.salesforce.op.evaluators.SingleMetric\", \"{\\\"name\\\":\\\"root mean square error\\\",\\\"value\\\":9.306722120976554}\" ]\n",
       "    }, {\n",
       "      \"ModelName\" : \"OpLinearRegression_00000000000d_2\",\n",
       "      \"ModelParameters\" : {\n",
       "        \"elasticNetParam\" : 0.1,\n",
       "        \"outputFeatureName\" : \"OnHour-cust_density-date_col-day_of_the_week-pickup_lat-pickup_long_4-stagesApplied_Prediction_000000000013\",\n",
       "        \"inputSchema\" : \"StructType()\",\n",
       "        \"sparkMlStage\" : \"org.apache.spark.ml.regression.LinearRegression\",\n",
       "        \"featuresCol\" : \"features\",\n",
       "        \"outputMetadata\" : { },\n",
       "        \"fitIntercept\" : true,\n",
       "        \"solver\" : \"auto\",\n",
       "        \"labelCol\" : \"label\",\n",
       "        \"inputFeatures\" : [ \"{\\n  \\\"name\\\" : \\\"cust_density\\\",\\n  \\\"isResponse\\\" : true,\\n  \\\"isRaw\\\" : true,\\n  \\\"uid\\\" : \\\"RealNN_00000000001c\\\",\\n  \\\"typeName\\\" : \\\"com.salesforce.op.features.types.RealNN\\\",\\n  \\\"originFeatures\\\" : [ \\\"cust_density\\\" ],\\n  \\\"stages\\\" : [ ]\\n}\", \"{\\n  \\\"name\\\" : \\\"OnHour-date_col-day_of_the_week-pickup_lat-pickup_long_3-stagesApplied_OPVector_000000000009\\\",\\n  \\\"isResponse\\\" : false,\\n  \\\"isRaw\\\" : true,\\n  \\\"uid\\\" : \\\"OPVector_000000000020\\\",\\n  \\\"typeName\\\" : \\\"com.salesforce.op.features.types.OPVector\\\",\\n  \\\"originFeatures\\\" : [ \\\"OnHour-date_col-day_of_the_week-pickup_lat-pickup_long_3-stagesApplied_OPVector_000000000009\\\" ],\\n  \\\"stages\\\" : [ ]\\n}\" ],\n",
       "        \"predictionCol\" : \"prediction\",\n",
       "        \"standardization\" : true,\n",
       "        \"regParam\" : 0.01,\n",
       "        \"tol\" : 1.0E-6,\n",
       "        \"maxIter\" : 50,\n",
       "        \"aggregationDepth\" : 2\n",
       "      },\n",
       "      \"ModelUID\" : \"OpLinearRegression_00000000000d\",\n",
       "      \"ModelType\" : \"OpLinearRegression\",\n",
       "      \"MetricValues\" : [ \"com.salesforce.op.evaluators.SingleMetric\", \"{\\\"name\\\":\\\"root mean square error\\\",\\\"value\\\":9.306700682497523}\" ]\n",
       "    }, {\n",
       "      \"ModelName\" : \"OpLinearRegression_00000000000d_3\",\n",
       "      \"ModelParameters\" : {\n",
       "        \"elasticNetParam\" : 0.5,\n",
       "        \"outputFeatureName\" : \"OnHour-cust_density-date_col-day_of_the_week-pickup_lat-pickup_long_4-stagesApplied_Prediction_000000000013\",\n",
       "        \"inputSchema\" : \"StructType()\",\n",
       "        \"sparkMlStage\" : \"org.apache.spark.ml.regression.LinearRegression\",\n",
       "        \"featuresCol\" : \"features\",\n",
       "        \"outputMetadata\" : { },\n",
       "        \"fitIntercept\" : true,\n",
       "        \"solver\" : \"auto\",\n",
       "        \"labelCol\" : \"label\",\n",
       "        \"inputFeatures\" : [ \"{\\n  \\\"name\\\" : \\\"cust_density\\\",\\n  \\\"isResponse\\\" : true,\\n  \\\"isRaw\\\" : true,\\n  \\\"uid\\\" : \\\"RealNN_00000000001c\\\",\\n  \\\"typeName\\\" : \\\"com.salesforce.op.features.types.RealNN\\\",\\n  \\\"originFeatures\\\" : [ \\\"cust_density\\\" ],\\n  \\\"stages\\\" : [ ]\\n}\", \"{\\n  \\\"name\\\" : \\\"OnHour-date_col-day_of_the_week-pickup_lat-pickup_long_3-stagesApplied_OPVector_000000000009\\\",\\n  \\\"isResponse\\\" : false,\\n  \\\"isRaw\\\" : true,\\n  \\\"uid\\\" : \\\"OPVector_000000000020\\\",\\n  \\\"typeName\\\" : \\\"com.salesforce.op.features.types.OPVector\\\",\\n  \\\"originFeatures\\\" : [ \\\"OnHour-date_col-day_of_the_week-pickup_lat-pickup_long_3-stagesApplied_OPVector_000000000009\\\" ],\\n  \\\"stages\\\" : [ ]\\n}\" ],\n",
       "        \"predictionCol\" : \"prediction\",\n",
       "        \"standardization\" : true,\n",
       "        \"regParam\" : 0.01,\n",
       "        \"tol\" : 1.0E-6,\n",
       "        \"maxIter\" : 50,\n",
       "        \"aggregationDepth\" : 2\n",
       "      },\n",
       "      \"ModelUID\" : \"OpLinearRegression_00000000000d\",\n",
       "      \"ModelType\" : \"OpLinearRegression\",\n",
       "      \"MetricValues\" : [ \"com.salesforce.op.evaluators.SingleMetric\", \"{\\\"name\\\":\\\"root mean square error\\\",\\\"value\\\":9.307302026936702}\" ]\n",
       "    }, {\n",
       "      \"ModelName\" : \"OpLinearRegression_00000000000d_4\",\n",
       "      \"ModelParameters\" : {\n",
       "        \"elasticNetParam\" : 0.1,\n",
       "        \"outputFeatureName\" : \"OnHour-cust_density-date_col-day_of_the_week-pickup_lat-pickup_long_4-stagesApplied_Prediction_000000000013\",\n",
       "        \"inputSchema\" : \"StructType()\",\n",
       "        \"sparkMlStage\" : \"org.apache.spark.ml.regression.LinearRegression\",\n",
       "        \"featuresCol\" : \"features\",\n",
       "        \"outputMetadata\" : { },\n",
       "        \"fitIntercept\" : true,\n",
       "        \"solver\" : \"auto\",\n",
       "        \"labelCol\" : \"label\",\n",
       "        \"inputFeatures\" : [ \"{\\n  \\\"name\\\" : \\\"cust_density\\\",\\n  \\\"isResponse\\\" : true,\\n  \\\"isRaw\\\" : true,\\n  \\\"uid\\\" : \\\"RealNN_00000000001c\\\",\\n  \\\"typeName\\\" : \\\"com.salesforce.op.features.types.RealNN\\\",\\n  \\\"originFeatures\\\" : [ \\\"cust_density\\\" ],\\n  \\\"stages\\\" : [ ]\\n}\", \"{\\n  \\\"name\\\" : \\\"OnHour-date_col-day_of_the_week-pickup_lat-pickup_long_3-stagesApplied_OPVector_000000000009\\\",\\n  \\\"isResponse\\\" : false,\\n  \\\"isRaw\\\" : true,\\n  \\\"uid\\\" : \\\"OPVector_000000000020\\\",\\n  \\\"typeName\\\" : \\\"com.salesforce.op.features.types.OPVector\\\",\\n  \\\"originFeatures\\\" : [ \\\"OnHour-date_col-day_of_the_week-pickup_lat-pickup_long_3-stagesApplied_OPVector_000000000009\\\" ],\\n  \\\"stages\\\" : [ ]\\n}\" ],\n",
       "        \"predictionCol\" : \"prediction\",\n",
       "        \"standardization\" : true,\n",
       "        \"regParam\" : 0.1,\n",
       "        \"tol\" : 1.0E-6,\n",
       "        \"maxIter\" : 50,\n",
       "        \"aggregationDepth\" : 2\n",
       "      },\n",
       "      \"ModelUID\" : \"OpLinearRegression_00000000000d\",\n",
       "      \"ModelType\" : \"OpLinearRegression\",\n",
       "      \"MetricValues\" : [ \"com.salesforce.op.evaluators.SingleMetric\", \"{\\\"name\\\":\\\"root mean square error\\\",\\\"value\\\":9.309958697939074}\" ]\n",
       "    }, {\n",
       "      \"ModelName\" : \"OpLinearRegression_00000000000d_5\",\n",
       "      \"ModelParameters\" : {\n",
       "        \"elasticNetParam\" : 0.5,\n",
       "        \"outputFeatureName\" : \"OnHour-cust_density-date_col-day_of_the_week-pickup_lat-pickup_long_4-stagesApplied_Prediction_000000000013\",\n",
       "        \"inputSchema\" : \"StructType()\",\n",
       "        \"sparkMlStage\" : \"org.apache.spark.ml.regression.LinearRegression\",\n",
       "        \"featuresCol\" : \"features\",\n",
       "        \"outputMetadata\" : { },\n",
       "        \"fitIntercept\" : true,\n",
       "        \"solver\" : \"auto\",\n",
       "        \"labelCol\" : \"label\",\n",
       "        \"inputFeatures\" : [ \"{\\n  \\\"name\\\" : \\\"cust_density\\\",\\n  \\\"isResponse\\\" : true,\\n  \\\"isRaw\\\" : true,\\n  \\\"uid\\\" : \\\"RealNN_00000000001c\\\",\\n  \\\"typeName\\\" : \\\"com.salesforce.op.features.types.RealNN\\\",\\n  \\\"originFeatures\\\" : [ \\\"cust_density\\\" ],\\n  \\\"stages\\\" : [ ]\\n}\", \"{\\n  \\\"name\\\" : \\\"OnHour-date_col-day_of_the_week-pickup_lat-pickup_long_3-stagesApplied_OPVector_000000000009\\\",\\n  \\\"isResponse\\\" : false,\\n  \\\"isRaw\\\" : true,\\n  \\\"uid\\\" : \\\"OPVector_000000000020\\\",\\n  \\\"typeName\\\" : \\\"com.salesforce.op.features.types.OPVector\\\",\\n  \\\"originFeatures\\\" : [ \\\"OnHour-date_col-day_of_the_week-pickup_lat-pickup_long_3-stagesApplied_OPVector_000000000009\\\" ],\\n  \\\"stages\\\" : [ ]\\n}\" ],\n",
       "        \"predictionCol\" : \"prediction\",\n",
       "        \"standardization\" : true,\n",
       "        \"regParam\" : 0.1,\n",
       "        \"tol\" : 1.0E-6,\n",
       "        \"maxIter\" : 50,\n",
       "        \"aggregationDepth\" : 2\n",
       "      },\n",
       "      \"ModelUID\" : \"OpLinearRegression_00000000000d\",\n",
       "      \"ModelType\" : \"OpLinearRegression\",\n",
       "      \"MetricValues\" : [ \"com.salesforce.op.evaluators.SingleMetric\", \"{\\\"name\\\":\\\"root mean square error\\\",\\\"value\\\":9.352416944183215}\" ]\n",
       "    }, {\n",
       "      \"ModelName\" : \"OpLinearRegression_00000000000d_6\",\n",
       "      \"ModelParameters\" : {\n",
       "        \"elasticNetParam\" : 0.1,\n",
       "        \"outputFeatureName\" : \"OnHour-cust_density-date_col-day_of_the_week-pickup_lat-pickup_long_4-stagesApplied_Prediction_000000000013\",\n",
       "        \"inputSchema\" : \"StructType()\",\n",
       "        \"sparkMlStage\" : \"org.apache.spark.ml.regression.LinearRegression\",\n",
       "        \"featuresCol\" : \"features\",\n",
       "        \"outputMetadata\" : { },\n",
       "        \"fitIntercept\" : true,\n",
       "        \"solver\" : \"auto\",\n",
       "        \"labelCol\" : \"label\",\n",
       "        \"inputFeatures\" : [ \"{\\n  \\\"name\\\" : \\\"cust_density\\\",\\n  \\\"isResponse\\\" : true,\\n  \\\"isRaw\\\" : true,\\n  \\\"uid\\\" : \\\"RealNN_00000000001c\\\",\\n  \\\"typeName\\\" : \\\"com.salesforce.op.features.types.RealNN\\\",\\n  \\\"originFeatures\\\" : [ \\\"cust_density\\\" ],\\n  \\\"stages\\\" : [ ]\\n}\", \"{\\n  \\\"name\\\" : \\\"OnHour-date_col-day_of_the_week-pickup_lat-pickup_long_3-stagesApplied_OPVector_000000000009\\\",\\n  \\\"isResponse\\\" : false,\\n  \\\"isRaw\\\" : true,\\n  \\\"uid\\\" : \\\"OPVector_000000000020\\\",\\n  \\\"typeName\\\" : \\\"com.salesforce.op.features.types.OPVector\\\",\\n  \\\"originFeatures\\\" : [ \\\"OnHour-date_col-day_of_the_week-pickup_lat-pickup_long_3-stagesApplied_OPVector_000000000009\\\" ],\\n  \\\"stages\\\" : [ ]\\n}\" ],\n",
       "        \"predictionCol\" : \"prediction\",\n",
       "        \"standardization\" : true,\n",
       "        \"regParam\" : 0.2,\n",
       "        \"tol\" : 1.0E-6,\n",
       "        \"maxIter\" : 50,\n",
       "        \"aggregationDepth\" : 2\n",
       "      },\n",
       "      \"ModelUID\" : \"OpLinearRegression_00000000000d\",\n",
       "      \"ModelType\" : \"OpLinearRegression\",\n",
       "      \"MetricValues\" : [ \"com.salesforce.op.evaluators.SingleMetric\", \"{\\\"name\\\":\\\"root mean square error\\\",\\\"value\\\":9.318910120304103}\" ]\n",
       "    }, {\n",
       "      \"ModelName\" : \"OpLinearRegression_00000000000d_7\",\n",
       "      \"ModelParameters\" : {\n",
       "        \"elasticNetParam\" : 0.5,\n",
       "        \"outputFeatureName\" : \"OnHour-cust_density-date_col-day_of_the_week-pickup_lat-pickup_long_4-stagesApplied_Prediction_000000000013\",\n",
       "        \"inputSchema\" : \"StructType()\",\n",
       "        \"sparkMlStage\" : \"org.apache.spark.ml.regression.LinearRegression\",\n",
       "        \"featuresCol\" : \"features\",\n",
       "        \"outputMetadata\" : { },\n",
       "        \"fitIntercept\" : true,\n",
       "        \"solver\" : \"auto\",\n",
       "        \"labelCol\" : \"label\",\n",
       "        \"inputFeatures\" : [ \"{\\n  \\\"name\\\" : \\\"cust_density\\\",\\n  \\\"isResponse\\\" : true,\\n  \\\"isRaw\\\" : true,\\n  \\\"uid\\\" : \\\"RealNN_00000000001c\\\",\\n  \\\"typeName\\\" : \\\"com.salesforce.op.features.types.RealNN\\\",\\n  \\\"originFeatures\\\" : [ \\\"cust_density\\\" ],\\n  \\\"stages\\\" : [ ]\\n}\", \"{\\n  \\\"name\\\" : \\\"OnHour-date_col-day_of_the_week-pickup_lat-pickup_long_3-stagesApplied_OPVector_000000000009\\\",\\n  \\\"isResponse\\\" : false,\\n  \\\"isRaw\\\" : true,\\n  \\\"uid\\\" : \\\"OPVector_000000000020\\\",\\n  \\\"typeName\\\" : \\\"com.salesforce.op.features.types.OPVector\\\",\\n  \\\"originFeatures\\\" : [ \\\"OnHour-date_col-day_of_the_week-pickup_lat-pickup_long_3-stagesApplied_OPVector_000000000009\\\" ],\\n  \\\"stages\\\" : [ ]\\n}\" ],\n",
       "        \"predictionCol\" : \"prediction\",\n",
       "        \"standardization\" : true,\n",
       "        \"regParam\" : 0.2,\n",
       "        \"tol\" : 1.0E-6,\n",
       "        \"maxIter\" : 50,\n",
       "        \"aggregationDepth\" : 2\n",
       "      },\n",
       "      \"ModelUID\" : \"OpLinearRegression_00000000000d\",\n",
       "      \"ModelType\" : \"OpLinearRegression\",\n",
       "      \"MetricValues\" : [ \"com.salesforce.op.evaluators.SingleMetric\", \"{\\\"name\\\":\\\"root mean square error\\\",\\\"value\\\":9.43800803568088}\" ]\n",
       "    }, {\n",
       "      \"ModelName\" : \"OpDecisionTreeRegressor_000000000010_0\",\n",
       "      \"ModelParameters\" : {\n",
       "        \"outputFeatureName\" : \"OnHour-cust_density-date_col-day_of_the_week-pickup_lat-pickup_long_4-stagesApplied_Prediction_000000000013\",\n",
       "        \"seed\" : -56738590,\n",
       "        \"inputSchema\" : \"StructType()\",\n",
       "        \"sparkMlStage\" : \"org.apache.spark.ml.regression.DecisionTreeRegressor\",\n",
       "        \"impurity\" : \"variance\",\n",
       "        \"featuresCol\" : \"features\",\n",
       "        \"maxDepth\" : 3,\n",
       "        \"outputMetadata\" : { },\n",
       "        \"minInstancesPerNode\" : 10,\n",
       "        \"checkpointInterval\" : 10,\n",
       "        \"minInfoGain\" : 0.001,\n",
       "        \"cacheNodeIds\" : false,\n",
       "        \"labelCol\" : \"label\",\n",
       "        \"inputFeatures\" : [ \"{\\n  \\\"name\\\" : \\\"cust_density\\\",\\n  \\\"isResponse\\\" : true,\\n  \\\"isRaw\\\" : true,\\n  \\\"uid\\\" : \\\"RealNN_000000000024\\\",\\n  \\\"typeName\\\" : \\\"com.salesforce.op.features.types.RealNN\\\",\\n  \\\"originFeatures\\\" : [ \\\"cust_density\\\" ],\\n  \\\"stages\\\" : [ ]\\n}\", \"{\\n  \\\"name\\\" : \\\"OnHour-date_col-day_of_the_week-pickup_lat-pickup_long_3-stagesApplied_OPVector_000000000009\\\",\\n  \\\"isResponse\\\" : false,\\n  \\\"isRaw\\\" : true,\\n  \\\"uid\\\" : \\\"OPVector_000000000025\\\",\\n  \\\"typeName\\\" : \\\"com.salesforce.op.features.types.OPVector\\\",\\n  \\\"originFeatures\\\" : [ \\\"OnHour-date_col-day_of_the_week-pickup_lat-pickup_long_3-stagesApplied_OPVector_000000000009\\\" ],\\n  \\\"stages\\\" : [ ]\\n}\" ],\n",
       "        \"predictionCol\" : \"prediction\",\n",
       "        \"maxMemoryInMB\" : 256,\n",
       "        \"maxBins\" : 32\n",
       "      },\n",
       "      \"ModelUID\" : \"OpDecisionTreeRegressor_000000000010\",\n",
       "      \"ModelType\" : \"OpDecisionTreeRegressor\",\n",
       "      \"MetricValues\" : [ \"com.salesforce.op.evaluators.SingleMetric\", \"{\\\"name\\\":\\\"root mean square error\\\",\\\"value\\\":9.645217160530718}\" ]\n",
       "    }, {\n",
       "      \"ModelName\" : \"OpDecisionTreeRegressor_000000000010_1\",\n",
       "      \"ModelParameters\" : {\n",
       "        \"outputFeatureName\" : \"OnHour-cust_density-date_col-day_of_the_week-pickup_lat-pickup_long_4-stagesApplied_Prediction_000000000013\",\n",
       "        \"seed\" : -56738590,\n",
       "        \"inputSchema\" : \"StructType()\",\n",
       "        \"sparkMlStage\" : \"org.apache.spark.ml.regression.DecisionTreeRegressor\",\n",
       "        \"impurity\" : \"variance\",\n",
       "        \"featuresCol\" : \"features\",\n",
       "        \"maxDepth\" : 6,\n",
       "        \"outputMetadata\" : { },\n",
       "        \"minInstancesPerNode\" : 10,\n",
       "        \"checkpointInterval\" : 10,\n",
       "        \"minInfoGain\" : 0.001,\n",
       "        \"cacheNodeIds\" : false,\n",
       "        \"labelCol\" : \"label\",\n",
       "        \"inputFeatures\" : [ \"{\\n  \\\"name\\\" : \\\"cust_density\\\",\\n  \\\"isResponse\\\" : true,\\n  \\\"isRaw\\\" : true,\\n  \\\"uid\\\" : \\\"RealNN_000000000024\\\",\\n  \\\"typeName\\\" : \\\"com.salesforce.op.features.types.RealNN\\\",\\n  \\\"originFeatures\\\" : [ \\\"cust_density\\\" ],\\n  \\\"stages\\\" : [ ]\\n}\", \"{\\n  \\\"name\\\" : \\\"OnHour-date_col-day_of_the_week-pickup_lat-pickup_long_3-stagesApplied_OPVector_000000000009\\\",\\n  \\\"isResponse\\\" : false,\\n  \\\"isRaw\\\" : true,\\n  \\\"uid\\\" : \\\"OPVector_000000000025\\\",\\n  \\\"typeName\\\" : \\\"com.salesforce.op.features.types.OPVector\\\",\\n  \\\"originFeatures\\\" : [ \\\"OnHour-date_col-day_of_the_week-pickup_lat-pickup_long_3-stagesApplied_OPVector_000000000009\\\" ],\\n  \\\"stages\\\" : [ ]\\n}\" ],\n",
       "        \"predictionCol\" : \"prediction\",\n",
       "        \"maxMemoryInMB\" : 256,\n",
       "        \"maxBins\" : 32\n",
       "      },\n",
       "      \"ModelUID\" : \"OpDecisionTreeRegressor_000000000010\",\n",
       "      \"ModelType\" : \"OpDecisionTreeRegressor\",\n",
       "      \"MetricValues\" : [ \"com.salesforce.op.evaluators.SingleMetric\", \"{\\\"name\\\":\\\"root mean square error\\\",\\\"value\\\":9.37784096699935}\" ]\n",
       "    }, {\n",
       "      \"ModelName\" : \"OpDecisionTreeRegressor_000000000010_2\",\n",
       "      \"ModelParameters\" : {\n",
       "        \"outputFeatureName\" : \"OnHour-cust_density-date_col-day_of_the_week-pickup_lat-pickup_long_4-stagesApplied_Prediction_000000000013\",\n",
       "        \"seed\" : -56738590,\n",
       "        \"inputSchema\" : \"StructType()\",\n",
       "        \"sparkMlStage\" : \"org.apache.spark.ml.regression.DecisionTreeRegressor\",\n",
       "        \"impurity\" : \"variance\",\n",
       "        \"featuresCol\" : \"features\",\n",
       "        \"maxDepth\" : 12,\n",
       "        \"outputMetadata\" : { },\n",
       "        \"minInstancesPerNode\" : 10,\n",
       "        \"checkpointInterval\" : 10,\n",
       "        \"minInfoGain\" : 0.001,\n",
       "        \"cacheNodeIds\" : false,\n",
       "        \"labelCol\" : \"label\",\n",
       "        \"inputFeatures\" : [ \"{\\n  \\\"name\\\" : \\\"cust_density\\\",\\n  \\\"isResponse\\\" : true,\\n  \\\"isRaw\\\" : true,\\n  \\\"uid\\\" : \\\"RealNN_000000000024\\\",\\n  \\\"typeName\\\" : \\\"com.salesforce.op.features.types.RealNN\\\",\\n  \\\"originFeatures\\\" : [ \\\"cust_density\\\" ],\\n  \\\"stages\\\" : [ ]\\n}\", \"{\\n  \\\"name\\\" : \\\"OnHour-date_col-day_of_the_week-pickup_lat-pickup_long_3-stagesApplied_OPVector_000000000009\\\",\\n  \\\"isResponse\\\" : false,\\n  \\\"isRaw\\\" : true,\\n  \\\"uid\\\" : \\\"OPVector_000000000025\\\",\\n  \\\"typeName\\\" : \\\"com.salesforce.op.features.types.OPVector\\\",\\n  \\\"originFeatures\\\" : [ \\\"OnHour-date_col-day_of_the_week-pickup_lat-pickup_long_3-stagesApplied_OPVector_000000000009\\\" ],\\n  \\\"stages\\\" : [ ]\\n}\" ],\n",
       "        \"predictionCol\" : \"prediction\",\n",
       "        \"maxMemoryInMB\" : 256,\n",
       "        \"maxBins\" : 32\n",
       "      },\n",
       "      \"ModelUID\" : \"OpDecisionTreeRegressor_000000000010\",\n",
       "      \"ModelType\" : \"OpDecisionTreeRegressor\",\n",
       "      \"MetricValues\" : [ \"com.salesforce.op.evaluators.SingleMetric\", \"{\\\"name\\\":\\\"root mean square error\\\",\\\"value\\\":8.717919361060916}\" ]\n",
       "    }, {\n",
       "      \"ModelName\" : \"OpDecisionTreeRegressor_000000000010_3\",\n",
       "      \"ModelParameters\" : {\n",
       "        \"outputFeatureName\" : \"OnHour-cust_density-date_col-day_of_the_week-pickup_lat-pickup_long_4-stagesApplied_Prediction_000000000013\",\n",
       "        \"seed\" : -56738590,\n",
       "        \"inputSchema\" : \"StructType()\",\n",
       "        \"sparkMlStage\" : \"org.apache.spark.ml.regression.DecisionTreeRegressor\",\n",
       "        \"impurity\" : \"variance\",\n",
       "        \"featuresCol\" : \"features\",\n",
       "        \"maxDepth\" : 3,\n",
       "        \"outputMetadata\" : { },\n",
       "        \"minInstancesPerNode\" : 10,\n",
       "        \"checkpointInterval\" : 10,\n",
       "        \"minInfoGain\" : 0.01,\n",
       "        \"cacheNodeIds\" : false,\n",
       "        \"labelCol\" : \"label\",\n",
       "        \"inputFeatures\" : [ \"{\\n  \\\"name\\\" : \\\"cust_density\\\",\\n  \\\"isResponse\\\" : true,\\n  \\\"isRaw\\\" : true,\\n  \\\"uid\\\" : \\\"RealNN_000000000024\\\",\\n  \\\"typeName\\\" : \\\"com.salesforce.op.features.types.RealNN\\\",\\n  \\\"originFeatures\\\" : [ \\\"cust_density\\\" ],\\n  \\\"stages\\\" : [ ]\\n}\", \"{\\n  \\\"name\\\" : \\\"OnHour-date_col-day_of_the_week-pickup_lat-pickup_long_3-stagesApplied_OPVector_000000000009\\\",\\n  \\\"isResponse\\\" : false,\\n  \\\"isRaw\\\" : true,\\n  \\\"uid\\\" : \\\"OPVector_000000000025\\\",\\n  \\\"typeName\\\" : \\\"com.salesforce.op.features.types.OPVector\\\",\\n  \\\"originFeatures\\\" : [ \\\"OnHour-date_col-day_of_the_week-pickup_lat-pickup_long_3-stagesApplied_OPVector_000000000009\\\" ],\\n  \\\"stages\\\" : [ ]\\n}\" ],\n",
       "        \"predictionCol\" : \"prediction\",\n",
       "        \"maxMemoryInMB\" : 256,\n",
       "        \"maxBins\" : 32\n",
       "      },\n",
       "      \"ModelUID\" : \"OpDecisionTreeRegressor_000000000010\",\n",
       "      \"ModelType\" : \"OpDecisionTreeRegressor\",\n",
       "      \"MetricValues\" : [ \"com.salesforce.op.evaluators.SingleMetric\", \"{\\\"name\\\":\\\"root mean square error\\\",\\\"value\\\":9.645217160530718}\" ]\n",
       "    }, {\n",
       "      \"ModelName\" : \"OpDecisionTreeRegressor_000000000010_4\",\n",
       "      \"ModelParameters\" : {\n",
       "        \"outputFeatureName\" : \"OnHour-cust_density-date_col-day_of_the_week-pickup_lat-pickup_long_4-stagesApplied_Prediction_000000000013\",\n",
       "        \"seed\" : -56738590,\n",
       "        \"inputSchema\" : \"StructType()\",\n",
       "        \"sparkMlStage\" : \"org.apache.spark.ml.regression.DecisionTreeRegressor\",\n",
       "        \"impurity\" : \"variance\",\n",
       "        \"featuresCol\" : \"features\",\n",
       "        \"maxDepth\" : 6,\n",
       "        \"outputMetadata\" : { },\n",
       "        \"minInstancesPerNode\" : 10,\n",
       "        \"checkpointInterval\" : 10,\n",
       "        \"minInfoGain\" : 0.01,\n",
       "        \"cacheNodeIds\" : false,\n",
       "        \"labelCol\" : \"label\",\n",
       "        \"inputFeatures\" : [ \"{\\n  \\\"name\\\" : \\\"cust_density\\\",\\n  \\\"isResponse\\\" : true,\\n  \\\"isRaw\\\" : true,\\n  \\\"uid\\\" : \\\"RealNN_000000000024\\\",\\n  \\\"typeName\\\" : \\\"com.salesforce.op.features.types.RealNN\\\",\\n  \\\"originFeatures\\\" : [ \\\"cust_density\\\" ],\\n  \\\"stages\\\" : [ ]\\n}\", \"{\\n  \\\"name\\\" : \\\"OnHour-date_col-day_of_the_week-pickup_lat-pickup_long_3-stagesApplied_OPVector_000000000009\\\",\\n  \\\"isResponse\\\" : false,\\n  \\\"isRaw\\\" : true,\\n  \\\"uid\\\" : \\\"OPVector_000000000025\\\",\\n  \\\"typeName\\\" : \\\"com.salesforce.op.features.types.OPVector\\\",\\n  \\\"originFeatures\\\" : [ \\\"OnHour-date_col-day_of_the_week-pickup_lat-pickup_long_3-stagesApplied_OPVector_000000000009\\\" ],\\n  \\\"stages\\\" : [ ]\\n}\" ],\n",
       "        \"predictionCol\" : \"prediction\",\n",
       "        \"maxMemoryInMB\" : 256,\n",
       "        \"maxBins\" : 32\n",
       "      },\n",
       "      \"ModelUID\" : \"OpDecisionTreeRegressor_000000000010\",\n",
       "      \"ModelType\" : \"OpDecisionTreeRegressor\",\n",
       "      \"MetricValues\" : [ \"com.salesforce.op.evaluators.SingleMetric\", \"{\\\"name\\\":\\\"root mean square error\\\",\\\"value\\\":9.377840924813656}\" ]\n",
       "    }, {\n",
       "      \"ModelName\" : \"OpDecisionTreeRegressor_000000000010_5\",\n",
       "      \"ModelParameters\" : {\n",
       "        \"outputFeatureName\" : \"OnHour-cust_density-date_col-day_of_the_week-pickup_lat-pickup_long_4-stagesApplied_Prediction_000000000013\",\n",
       "        \"seed\" : -56738590,\n",
       "        \"inputSchema\" : \"StructType()\",\n",
       "        \"sparkMlStage\" : \"org.apache.spark.ml.regression.DecisionTreeRegressor\",\n",
       "        \"impurity\" : \"variance\",\n",
       "        \"featuresCol\" : \"features\",\n",
       "        \"maxDepth\" : 12,\n",
       "        \"outputMetadata\" : { },\n",
       "        \"minInstancesPerNode\" : 10,\n",
       "        \"checkpointInterval\" : 10,\n",
       "        \"minInfoGain\" : 0.01,\n",
       "        \"cacheNodeIds\" : false,\n",
       "        \"labelCol\" : \"label\",\n",
       "        \"inputFeatures\" : [ \"{\\n  \\\"name\\\" : \\\"cust_density\\\",\\n  \\\"isResponse\\\" : true,\\n  \\\"isRaw\\\" : true,\\n  \\\"uid\\\" : \\\"RealNN_000000000024\\\",\\n  \\\"typeName\\\" : \\\"com.salesforce.op.features.types.RealNN\\\",\\n  \\\"originFeatures\\\" : [ \\\"cust_density\\\" ],\\n  \\\"stages\\\" : [ ]\\n}\", \"{\\n  \\\"name\\\" : \\\"OnHour-date_col-day_of_the_week-pickup_lat-pickup_long_3-stagesApplied_OPVector_000000000009\\\",\\n  \\\"isResponse\\\" : false,\\n  \\\"isRaw\\\" : true,\\n  \\\"uid\\\" : \\\"OPVector_000000000025\\\",\\n  \\\"typeName\\\" : \\\"com.salesforce.op.features.types.OPVector\\\",\\n  \\\"originFeatures\\\" : [ \\\"OnHour-date_col-day_of_the_week-pickup_lat-pickup_long_3-stagesApplied_OPVector_000000000009\\\" ],\\n  \\\"stages\\\" : [ ]\\n}\" ],\n",
       "        \"predictionCol\" : \"prediction\",\n",
       "        \"maxMemoryInMB\" : 256,\n",
       "        \"maxBins\" : 32\n",
       "      },\n",
       "      \"ModelUID\" : \"OpDecisionTreeRegressor_000000000010\",\n",
       "      \"ModelType\" : \"OpDecisionTreeRegressor\",\n",
       "      \"MetricValues\" : [ \"com.salesforce.op.evaluators.SingleMetric\", \"{\\\"name\\\":\\\"root mean square error\\\",\\\"value\\\":8.717919509436587}\" ]\n",
       "    }, {\n",
       "      \"ModelName\" : \"OpDecisionTreeRegressor_000000000010_6\",\n",
       "      \"ModelParameters\" : {\n",
       "        \"outputFeatureName\" : \"OnHour-cust_density-date_col-day_of_the_week-pickup_lat-pickup_long_4-stagesApplied_Prediction_000000000013\",\n",
       "        \"seed\" : -56738590,\n",
       "        \"inputSchema\" : \"StructType()\",\n",
       "        \"sparkMlStage\" : \"org.apache.spark.ml.regression.DecisionTreeRegressor\",\n",
       "        \"impurity\" : \"variance\",\n",
       "        \"featuresCol\" : \"features\",\n",
       "        \"maxDepth\" : 3,\n",
       "        \"outputMetadata\" : { },\n",
       "        \"minInstancesPerNode\" : 10,\n",
       "        \"checkpointInterval\" : 10,\n",
       "        \"minInfoGain\" : 0.1,\n",
       "        \"cacheNodeIds\" : false,\n",
       "        \"labelCol\" : \"label\",\n",
       "        \"inputFeatures\" : [ \"{\\n  \\\"name\\\" : \\\"cust_density\\\",\\n  \\\"isResponse\\\" : true,\\n  \\\"isRaw\\\" : true,\\n  \\\"uid\\\" : \\\"RealNN_000000000024\\\",\\n  \\\"typeName\\\" : \\\"com.salesforce.op.features.types.RealNN\\\",\\n  \\\"originFeatures\\\" : [ \\\"cust_density\\\" ],\\n  \\\"stages\\\" : [ ]\\n}\", \"{\\n  \\\"name\\\" : \\\"OnHour-date_col-day_of_the_week-pickup_lat-pickup_long_3-stagesApplied_OPVector_000000000009\\\",\\n  \\\"isResponse\\\" : false,\\n  \\\"isRaw\\\" : true,\\n  \\\"uid\\\" : \\\"OPVector_000000000025\\\",\\n  \\\"typeName\\\" : \\\"com.salesforce.op.features.types.OPVector\\\",\\n  \\\"originFeatures\\\" : [ \\\"OnHour-date_col-day_of_the_week-pickup_lat-pickup_long_3-stagesApplied_OPVector_000000000009\\\" ],\\n  \\\"stages\\\" : [ ]\\n}\" ],\n",
       "        \"predictionCol\" : \"prediction\",\n",
       "        \"maxMemoryInMB\" : 256,\n",
       "        \"maxBins\" : 32\n",
       "      },\n",
       "      \"ModelUID\" : \"OpDecisionTreeRegressor_000000000010\",\n",
       "      \"ModelType\" : \"OpDecisionTreeRegressor\",\n",
       "      \"MetricValues\" : [ \"com.salesforce.op.evaluators.SingleMetric\", \"{\\\"name\\\":\\\"root mean square error\\\",\\\"value\\\":9.645217160530718}\" ]\n",
       "    }, {\n",
       "      \"ModelName\" : \"OpDecisionTreeRegressor_000000000010_7\",\n",
       "      \"ModelParameters\" : {\n",
       "        \"outputFeatureName\" : \"OnHour-cust_density-date_col-day_of_the_week-pickup_lat-pickup_long_4-stagesApplied_Prediction_000000000013\",\n",
       "        \"seed\" : -56738590,\n",
       "        \"inputSchema\" : \"StructType()\",\n",
       "        \"sparkMlStage\" : \"org.apache.spark.ml.regression.DecisionTreeRegressor\",\n",
       "        \"impurity\" : \"variance\",\n",
       "        \"featuresCol\" : \"features\",\n",
       "        \"maxDepth\" : 6,\n",
       "        \"outputMetadata\" : { },\n",
       "        \"minInstancesPerNode\" : 10,\n",
       "        \"checkpointInterval\" : 10,\n",
       "        \"minInfoGain\" : 0.1,\n",
       "        \"cacheNodeIds\" : false,\n",
       "        \"labelCol\" : \"label\",\n",
       "        \"inputFeatures\" : [ \"{\\n  \\\"name\\\" : \\\"cust_density\\\",\\n  \\\"isResponse\\\" : true,\\n  \\\"isRaw\\\" : true,\\n  \\\"uid\\\" : \\\"RealNN_000000000024\\\",\\n  \\\"typeName\\\" : \\\"com.salesforce.op.features.types.RealNN\\\",\\n  \\\"originFeatures\\\" : [ \\\"cust_density\\\" ],\\n  \\\"stages\\\" : [ ]\\n}\", \"{\\n  \\\"name\\\" : \\\"OnHour-date_col-day_of_the_week-pickup_lat-pickup_long_3-stagesApplied_OPVector_000000000009\\\",\\n  \\\"isResponse\\\" : false,\\n  \\\"isRaw\\\" : true,\\n  \\\"uid\\\" : \\\"OPVector_000000000025\\\",\\n  \\\"typeName\\\" : \\\"com.salesforce.op.features.types.OPVector\\\",\\n  \\\"originFeatures\\\" : [ \\\"OnHour-date_col-day_of_the_week-pickup_lat-pickup_long_3-stagesApplied_OPVector_000000000009\\\" ],\\n  \\\"stages\\\" : [ ]\\n}\" ],\n",
       "        \"predictionCol\" : \"prediction\",\n",
       "        \"maxMemoryInMB\" : 256,\n",
       "        \"maxBins\" : 32\n",
       "      },\n",
       "      \"ModelUID\" : \"OpDecisionTreeRegressor_000000000010\",\n",
       "      \"ModelType\" : \"OpDecisionTreeRegressor\",\n",
       "      \"MetricValues\" : [ \"com.salesforce.op.evaluators.SingleMetric\", \"{\\\"name\\\":\\\"root mean square error\\\",\\\"value\\\":9.37784079380432}\" ]\n",
       "    }, {\n",
       "      \"ModelName\" : \"OpDecisionTreeRegressor_000000000010_8\",\n",
       "      \"ModelParameters\" : {\n",
       "        \"outputFeatureName\" : \"OnHour-cust_density-date_col-day_of_the_week-pickup_lat-pickup_long_4-stagesApplied_Prediction_000000000013\",\n",
       "        \"seed\" : -56738590,\n",
       "        \"inputSchema\" : \"StructType()\",\n",
       "        \"sparkMlStage\" : \"org.apache.spark.ml.regression.DecisionTreeRegressor\",\n",
       "        \"impurity\" : \"variance\",\n",
       "        \"featuresCol\" : \"features\",\n",
       "        \"maxDepth\" : 12,\n",
       "        \"outputMetadata\" : { },\n",
       "        \"minInstancesPerNode\" : 10,\n",
       "        \"checkpointInterval\" : 10,\n",
       "        \"minInfoGain\" : 0.1,\n",
       "        \"cacheNodeIds\" : false,\n",
       "        \"labelCol\" : \"label\",\n",
       "        \"inputFeatures\" : [ \"{\\n  \\\"name\\\" : \\\"cust_density\\\",\\n  \\\"isResponse\\\" : true,\\n  \\\"isRaw\\\" : true,\\n  \\\"uid\\\" : \\\"RealNN_000000000024\\\",\\n  \\\"typeName\\\" : \\\"com.salesforce.op.features.types.RealNN\\\",\\n  \\\"originFeatures\\\" : [ \\\"cust_density\\\" ],\\n  \\\"stages\\\" : [ ]\\n}\", \"{\\n  \\\"name\\\" : \\\"OnHour-date_col-day_of_the_week-pickup_lat-pickup_long_3-stagesApplied_OPVector_000000000009\\\",\\n  \\\"isResponse\\\" : false,\\n  \\\"isRaw\\\" : true,\\n  \\\"uid\\\" : \\\"OPVector_000000000025\\\",\\n  \\\"typeName\\\" : \\\"com.salesforce.op.features.types.OPVector\\\",\\n  \\\"originFeatures\\\" : [ \\\"OnHour-date_col-day_of_the_week-pickup_lat-pickup_long_3-stagesApplied_OPVector_000000000009\\\" ],\\n  \\\"stages\\\" : [ ]\\n}\" ],\n",
       "        \"predictionCol\" : \"prediction\",\n",
       "        \"maxMemoryInMB\" : 256,\n",
       "        \"maxBins\" : 32\n",
       "      },\n",
       "      \"ModelUID\" : \"OpDecisionTreeRegressor_000000000010\",\n",
       "      \"ModelType\" : \"OpDecisionTreeRegressor\",\n",
       "      \"MetricValues\" : [ \"com.salesforce.op.evaluators.SingleMetric\", \"{\\\"name\\\":\\\"root mean square error\\\",\\\"value\\\":8.719080944909575}\" ]\n",
       "    }, {\n",
       "      \"ModelName\" : \"OpDecisionTreeRegressor_000000000010_9\",\n",
       "      \"ModelParameters\" : {\n",
       "        \"outputFeatureName\" : \"OnHour-cust_density-date_col-day_of_the_week-pickup_lat-pickup_long_4-stagesApplied_Prediction_000000000013\",\n",
       "        \"seed\" : -56738590,\n",
       "        \"inputSchema\" : \"StructType()\",\n",
       "        \"sparkMlStage\" : \"org.apache.spark.ml.regression.DecisionTreeRegressor\",\n",
       "        \"impurity\" : \"variance\",\n",
       "        \"featuresCol\" : \"features\",\n",
       "        \"maxDepth\" : 3,\n",
       "        \"outputMetadata\" : { },\n",
       "        \"minInstancesPerNode\" : 100,\n",
       "        \"checkpointInterval\" : 10,\n",
       "        \"minInfoGain\" : 0.001,\n",
       "        \"cacheNodeIds\" : false,\n",
       "        \"labelCol\" : \"label\",\n",
       "        \"inputFeatures\" : [ \"{\\n  \\\"name\\\" : \\\"cust_density\\\",\\n  \\\"isResponse\\\" : true,\\n  \\\"isRaw\\\" : true,\\n  \\\"uid\\\" : \\\"RealNN_000000000024\\\",\\n  \\\"typeName\\\" : \\\"com.salesforce.op.features.types.RealNN\\\",\\n  \\\"originFeatures\\\" : [ \\\"cust_density\\\" ],\\n  \\\"stages\\\" : [ ]\\n}\", \"{\\n  \\\"name\\\" : \\\"OnHour-date_col-day_of_the_week-pickup_lat-pickup_long_3-stagesApplied_OPVector_000000000009\\\",\\n  \\\"isResponse\\\" : false,\\n  \\\"isRaw\\\" : true,\\n  \\\"uid\\\" : \\\"OPVector_000000000025\\\",\\n  \\\"typeName\\\" : \\\"com.salesforce.op.features.types.OPVector\\\",\\n  \\\"originFeatures\\\" : [ \\\"OnHour-date_col-day_of_the_week-pickup_lat-pickup_long_3-stagesApplied_OPVector_000000000009\\\" ],\\n  \\\"stages\\\" : [ ]\\n}\" ],\n",
       "        \"predictionCol\" : \"prediction\",\n",
       "        \"maxMemoryInMB\" : 256,\n",
       "        \"maxBins\" : 32\n",
       "      },\n",
       "      \"ModelUID\" : \"OpDecisionTreeRegressor_000000000010\",\n",
       "      \"ModelType\" : \"OpDecisionTreeRegressor\",\n",
       "      \"MetricValues\" : [ \"com.salesforce.op.evaluators.SingleMetric\", \"{\\\"name\\\":\\\"root mean square error\\\",\\\"value\\\":9.682683766516321}\" ]\n",
       "    }, {\n",
       "      \"ModelName\" : \"OpDecisionTreeRegressor_000000000010_10\",\n",
       "      \"ModelParameters\" : {\n",
       "        \"outputFeatureName\" : \"OnHour-cust_density-date_col-day_of_the_week-pickup_lat-pickup_long_4-stagesApplied_Prediction_000000000013\",\n",
       "        \"seed\" : -56738590,\n",
       "        \"inputSchema\" : \"StructType()\",\n",
       "        \"sparkMlStage\" : \"org.apache.spark.ml.regression.DecisionTreeRegressor\",\n",
       "        \"impurity\" : \"variance\",\n",
       "        \"featuresCol\" : \"features\",\n",
       "        \"maxDepth\" : 6,\n",
       "        \"outputMetadata\" : { },\n",
       "        \"minInstancesPerNode\" : 100,\n",
       "        \"checkpointInterval\" : 10,\n",
       "        \"minInfoGain\" : 0.001,\n",
       "        \"cacheNodeIds\" : false,\n",
       "        \"labelCol\" : \"label\",\n",
       "        \"inputFeatures\" : [ \"{\\n  \\\"name\\\" : \\\"cust_density\\\",\\n  \\\"isResponse\\\" : true,\\n  \\\"isRaw\\\" : true,\\n  \\\"uid\\\" : \\\"RealNN_000000000024\\\",\\n  \\\"typeName\\\" : \\\"com.salesforce.op.features.types.RealNN\\\",\\n  \\\"originFeatures\\\" : [ \\\"cust_density\\\" ],\\n  \\\"stages\\\" : [ ]\\n}\", \"{\\n  \\\"name\\\" : \\\"OnHour-date_col-day_of_the_week-pickup_lat-pickup_long_3-stagesApplied_OPVector_000000000009\\\",\\n  \\\"isResponse\\\" : false,\\n  \\\"isRaw\\\" : true,\\n  \\\"uid\\\" : \\\"OPVector_000000000025\\\",\\n  \\\"typeName\\\" : \\\"com.salesforce.op.features.types.OPVector\\\",\\n  \\\"originFeatures\\\" : [ \\\"OnHour-date_col-day_of_the_week-pickup_lat-pickup_long_3-stagesApplied_OPVector_000000000009\\\" ],\\n  \\\"stages\\\" : [ ]\\n}\" ],\n",
       "        \"predictionCol\" : \"prediction\",\n",
       "        \"maxMemoryInMB\" : 256,\n",
       "        \"maxBins\" : 32\n",
       "      },\n",
       "      \"ModelUID\" : \"OpDecisionTreeRegressor_000000000010\",\n",
       "      \"ModelType\" : \"OpDecisionTreeRegressor\",\n",
       "      \"MetricValues\" : [ \"com.salesforce.op.evaluators.SingleMetric\", \"{\\\"name\\\":\\\"root mean square error\\\",\\\"value\\\":9.460567494928043}\" ]\n",
       "    }, {\n",
       "      \"ModelName\" : \"OpDecisionTreeRegressor_000000000010_11\",\n",
       "      \"ModelParameters\" : {\n",
       "        \"outputFeatureName\" : \"OnHour-cust_density-date_col-day_of_the_week-pickup_lat-pickup_long_4-stagesApplied_Prediction_000000000013\",\n",
       "        \"seed\" : -56738590,\n",
       "        \"inputSchema\" : \"StructType()\",\n",
       "        \"sparkMlStage\" : \"org.apache.spark.ml.regression.DecisionTreeRegressor\",\n",
       "        \"impurity\" : \"variance\",\n",
       "        \"featuresCol\" : \"features\",\n",
       "        \"maxDepth\" : 12,\n",
       "        \"outputMetadata\" : { },\n",
       "        \"minInstancesPerNode\" : 100,\n",
       "        \"checkpointInterval\" : 10,\n",
       "        \"minInfoGain\" : 0.001,\n",
       "        \"cacheNodeIds\" : false,\n",
       "        \"labelCol\" : \"label\",\n",
       "        \"inputFeatures\" : [ \"{\\n  \\\"name\\\" : \\\"cust_density\\\",\\n  \\\"isResponse\\\" : true,\\n  \\\"isRaw\\\" : true,\\n  \\\"uid\\\" : \\\"RealNN_000000000024\\\",\\n  \\\"typeName\\\" : \\\"com.salesforce.op.features.types.RealNN\\\",\\n  \\\"originFeatures\\\" : [ \\\"cust_density\\\" ],\\n  \\\"stages\\\" : [ ]\\n}\", \"{\\n  \\\"name\\\" : \\\"OnHour-date_col-day_of_the_week-pickup_lat-pickup_long_3-stagesApplied_OPVector_000000000009\\\",\\n  \\\"isResponse\\\" : false,\\n  \\\"isRaw\\\" : true,\\n  \\\"uid\\\" : \\\"OPVector_000000000025\\\",\\n  \\\"typeName\\\" : \\\"com.salesforce.op.features.types.OPVector\\\",\\n  \\\"originFeatures\\\" : [ \\\"OnHour-date_col-day_of_the_week-pickup_lat-pickup_long_3-stagesApplied_OPVector_000000000009\\\" ],\\n  \\\"stages\\\" : [ ]\\n}\" ],\n",
       "        \"predictionCol\" : \"prediction\",\n",
       "        \"maxMemoryInMB\" : 256,\n",
       "        \"maxBins\" : 32\n",
       "      },\n",
       "      \"ModelUID\" : \"OpDecisionTreeRegressor_000000000010\",\n",
       "      \"ModelType\" : \"OpDecisionTreeRegressor\",\n",
       "      \"MetricValues\" : [ \"com.salesforce.op.evaluators.SingleMetric\", \"{\\\"name\\\":\\\"root mean square error\\\",\\\"value\\\":8.846944478326105}\" ]\n",
       "    }, {\n",
       "      \"ModelName\" : \"OpDecisionTreeRegressor_000000000010_12\",\n",
       "      \"ModelParameters\" : {\n",
       "        \"outputFeatureName\" : \"OnHour-cust_density-date_col-day_of_the_week-pickup_lat-pickup_long_4-stagesApplied_Prediction_000000000013\",\n",
       "        \"seed\" : -56738590,\n",
       "        \"inputSchema\" : \"StructType()\",\n",
       "        \"sparkMlStage\" : \"org.apache.spark.ml.regression.DecisionTreeRegressor\",\n",
       "        \"impurity\" : \"variance\",\n",
       "        \"featuresCol\" : \"features\",\n",
       "        \"maxDepth\" : 3,\n",
       "        \"outputMetadata\" : { },\n",
       "        \"minInstancesPerNode\" : 100,\n",
       "        \"checkpointInterval\" : 10,\n",
       "        \"minInfoGain\" : 0.01,\n",
       "        \"cacheNodeIds\" : false,\n",
       "        \"labelCol\" : \"label\",\n",
       "        \"inputFeatures\" : [ \"{\\n  \\\"name\\\" : \\\"cust_density\\\",\\n  \\\"isResponse\\\" : true,\\n  \\\"isRaw\\\" : true,\\n  \\\"uid\\\" : \\\"RealNN_000000000024\\\",\\n  \\\"typeName\\\" : \\\"com.salesforce.op.features.types.RealNN\\\",\\n  \\\"originFeatures\\\" : [ \\\"cust_density\\\" ],\\n  \\\"stages\\\" : [ ]\\n}\", \"{\\n  \\\"name\\\" : \\\"OnHour-date_col-day_of_the_week-pickup_lat-pickup_long_3-stagesApplied_OPVector_000000000009\\\",\\n  \\\"isResponse\\\" : false,\\n  \\\"isRaw\\\" : true,\\n  \\\"uid\\\" : \\\"OPVector_000000000025\\\",\\n  \\\"typeName\\\" : \\\"com.salesforce.op.features.types.OPVector\\\",\\n  \\\"originFeatures\\\" : [ \\\"OnHour-date_col-day_of_the_week-pickup_lat-pickup_long_3-stagesApplied_OPVector_000000000009\\\" ],\\n  \\\"stages\\\" : [ ]\\n}\" ],\n",
       "        \"predictionCol\" : \"prediction\",\n",
       "        \"maxMemoryInMB\" : 256,\n",
       "        \"maxBins\" : 32\n",
       "      },\n",
       "      \"ModelUID\" : \"OpDecisionTreeRegressor_000000000010\",\n",
       "      \"ModelType\" : \"OpDecisionTreeRegressor\",\n",
       "      \"MetricValues\" : [ \"com.salesforce.op.evaluators.SingleMetric\", \"{\\\"name\\\":\\\"root mean square error\\\",\\\"value\\\":9.682683766516321}\" ]\n",
       "    }, {\n",
       "      \"ModelName\" : \"OpDecisionTreeRegressor_000000000010_13\",\n",
       "      \"ModelParameters\" : {\n",
       "        \"outputFeatureName\" : \"OnHour-cust_density-date_col-day_of_the_week-pickup_lat-pickup_long_4-stagesApplied_Prediction_000000000013\",\n",
       "        \"seed\" : -56738590,\n",
       "        \"inputSchema\" : \"StructType()\",\n",
       "        \"sparkMlStage\" : \"org.apache.spark.ml.regression.DecisionTreeRegressor\",\n",
       "        \"impurity\" : \"variance\",\n",
       "        \"featuresCol\" : \"features\",\n",
       "        \"maxDepth\" : 6,\n",
       "        \"outputMetadata\" : { },\n",
       "        \"minInstancesPerNode\" : 100,\n",
       "        \"checkpointInterval\" : 10,\n",
       "        \"minInfoGain\" : 0.01,\n",
       "        \"cacheNodeIds\" : false,\n",
       "        \"labelCol\" : \"label\",\n",
       "        \"inputFeatures\" : [ \"{\\n  \\\"name\\\" : \\\"cust_density\\\",\\n  \\\"isResponse\\\" : true,\\n  \\\"isRaw\\\" : true,\\n  \\\"uid\\\" : \\\"RealNN_000000000024\\\",\\n  \\\"typeName\\\" : \\\"com.salesforce.op.features.types.RealNN\\\",\\n  \\\"originFeatures\\\" : [ \\\"cust_density\\\" ],\\n  \\\"stages\\\" : [ ]\\n}\", \"{\\n  \\\"name\\\" : \\\"OnHour-date_col-day_of_the_week-pickup_lat-pickup_long_3-stagesApplied_OPVector_000000000009\\\",\\n  \\\"isResponse\\\" : false,\\n  \\\"isRaw\\\" : true,\\n  \\\"uid\\\" : \\\"OPVector_000000000025\\\",\\n  \\\"typeName\\\" : \\\"com.salesforce.op.features.types.OPVector\\\",\\n  \\\"originFeatures\\\" : [ \\\"OnHour-date_col-day_of_the_week-pickup_lat-pickup_long_3-stagesApplied_OPVector_000000000009\\\" ],\\n  \\\"stages\\\" : [ ]\\n}\" ],\n",
       "        \"predictionCol\" : \"prediction\",\n",
       "        \"maxMemoryInMB\" : 256,\n",
       "        \"maxBins\" : 32\n",
       "      },\n",
       "      \"ModelUID\" : \"OpDecisionTreeRegressor_000000000010\",\n",
       "      \"ModelType\" : \"OpDecisionTreeRegressor\",\n",
       "      \"MetricValues\" : [ \"com.salesforce.op.evaluators.SingleMetric\", \"{\\\"name\\\":\\\"root mean square error\\\",\\\"value\\\":9.460567494928043}\" ]\n",
       "    }, {\n",
       "      \"ModelName\" : \"OpDecisionTreeRegressor_000000000010_14\",\n",
       "      \"ModelParameters\" : {\n",
       "        \"outputFeatureName\" : \"OnHour-cust_density-date_col-day_of_the_week-pickup_lat-pickup_long_4-stagesApplied_Prediction_000000000013\",\n",
       "        \"seed\" : -56738590,\n",
       "        \"inputSchema\" : \"StructType()\",\n",
       "        \"sparkMlStage\" : \"org.apache.spark.ml.regression.DecisionTreeRegressor\",\n",
       "        \"impurity\" : \"variance\",\n",
       "        \"featuresCol\" : \"features\",\n",
       "        \"maxDepth\" : 12,\n",
       "        \"outputMetadata\" : { },\n",
       "        \"minInstancesPerNode\" : 100,\n",
       "        \"checkpointInterval\" : 10,\n",
       "        \"minInfoGain\" : 0.01,\n",
       "        \"cacheNodeIds\" : false,\n",
       "        \"labelCol\" : \"label\",\n",
       "        \"inputFeatures\" : [ \"{\\n  \\\"name\\\" : \\\"cust_density\\\",\\n  \\\"isResponse\\\" : true,\\n  \\\"isRaw\\\" : true,\\n  \\\"uid\\\" : \\\"RealNN_000000000024\\\",\\n  \\\"typeName\\\" : \\\"com.salesforce.op.features.types.RealNN\\\",\\n  \\\"originFeatures\\\" : [ \\\"cust_density\\\" ],\\n  \\\"stages\\\" : [ ]\\n}\", \"{\\n  \\\"name\\\" : \\\"OnHour-date_col-day_of_the_week-pickup_lat-pickup_long_3-stagesApplied_OPVector_000000000009\\\",\\n  \\\"isResponse\\\" : false,\\n  \\\"isRaw\\\" : true,\\n  \\\"uid\\\" : \\\"OPVector_000000000025\\\",\\n  \\\"typeName\\\" : \\\"com.salesforce.op.features.types.OPVector\\\",\\n  \\\"originFeatures\\\" : [ \\\"OnHour-date_col-day_of_the_week-pickup_lat-pickup_long_3-stagesApplied_OPVector_000000000009\\\" ],\\n  \\\"stages\\\" : [ ]\\n}\" ],\n",
       "        \"predictionCol\" : \"prediction\",\n",
       "        \"maxMemoryInMB\" : 256,\n",
       "        \"maxBins\" : 32\n",
       "      },\n",
       "      \"ModelUID\" : \"OpDecisionTreeRegressor_000000000010\",\n",
       "      \"ModelType\" : \"OpDecisionTreeRegressor\",\n",
       "      \"MetricValues\" : [ \"com.salesforce.op.evaluators.SingleMetric\", \"{\\\"name\\\":\\\"root mean square error\\\",\\\"value\\\":8.846946152520651}\" ]\n",
       "    }, {\n",
       "      \"ModelName\" : \"OpDecisionTreeRegressor_000000000010_15\",\n",
       "      \"ModelParameters\" : {\n",
       "        \"outputFeatureName\" : \"OnHour-cust_density-date_col-day_of_the_week-pickup_lat-pickup_long_4-stagesApplied_Prediction_000000000013\",\n",
       "        \"seed\" : -56738590,\n",
       "        \"inputSchema\" : \"StructType()\",\n",
       "        \"sparkMlStage\" : \"org.apache.spark.ml.regression.DecisionTreeRegressor\",\n",
       "        \"impurity\" : \"variance\",\n",
       "        \"featuresCol\" : \"features\",\n",
       "        \"maxDepth\" : 3,\n",
       "        \"outputMetadata\" : { },\n",
       "        \"minInstancesPerNode\" : 100,\n",
       "        \"checkpointInterval\" : 10,\n",
       "        \"minInfoGain\" : 0.1,\n",
       "        \"cacheNodeIds\" : false,\n",
       "        \"labelCol\" : \"label\",\n",
       "        \"inputFeatures\" : [ \"{\\n  \\\"name\\\" : \\\"cust_density\\\",\\n  \\\"isResponse\\\" : true,\\n  \\\"isRaw\\\" : true,\\n  \\\"uid\\\" : \\\"RealNN_000000000024\\\",\\n  \\\"typeName\\\" : \\\"com.salesforce.op.features.types.RealNN\\\",\\n  \\\"originFeatures\\\" : [ \\\"cust_density\\\" ],\\n  \\\"stages\\\" : [ ]\\n}\", \"{\\n  \\\"name\\\" : \\\"OnHour-date_col-day_of_the_week-pickup_lat-pickup_long_3-stagesApplied_OPVector_000000000009\\\",\\n  \\\"isResponse\\\" : false,\\n  \\\"isRaw\\\" : true,\\n  \\\"uid\\\" : \\\"OPVector_000000000025\\\",\\n  \\\"typeName\\\" : \\\"com.salesforce.op.features.types.OPVector\\\",\\n  \\\"originFeatures\\\" : [ \\\"OnHour-date_col-day_of_the_week-pickup_lat-pickup_long_3-stagesApplied_OPVector_000000000009\\\" ],\\n  \\\"stages\\\" : [ ]\\n}\" ],\n",
       "        \"predictionCol\" : \"prediction\",\n",
       "        \"maxMemoryInMB\" : 256,\n",
       "        \"maxBins\" : 32\n",
       "      },\n",
       "      \"ModelUID\" : \"OpDecisionTreeRegressor_000000000010\",\n",
       "      \"ModelType\" : \"OpDecisionTreeRegressor\",\n",
       "      \"MetricValues\" : [ \"com.salesforce.op.evaluators.SingleMetric\", \"{\\\"name\\\":\\\"root mean square error\\\",\\\"value\\\":9.682683766516321}\" ]\n",
       "    }, {\n",
       "      \"ModelName\" : \"OpDecisionTreeRegressor_000000000010_16\",\n",
       "      \"ModelParameters\" : {\n",
       "        \"outputFeatureName\" : \"OnHour-cust_density-date_col-day_of_the_week-pickup_lat-pickup_long_4-stagesApplied_Prediction_000000000013\",\n",
       "        \"seed\" : -56738590,\n",
       "        \"inputSchema\" : \"StructType()\",\n",
       "        \"sparkMlStage\" : \"org.apache.spark.ml.regression.DecisionTreeRegressor\",\n",
       "        \"impurity\" : \"variance\",\n",
       "        \"featuresCol\" : \"features\",\n",
       "        \"maxDepth\" : 6,\n",
       "        \"outputMetadata\" : { },\n",
       "        \"minInstancesPerNode\" : 100,\n",
       "        \"checkpointInterval\" : 10,\n",
       "        \"minInfoGain\" : 0.1,\n",
       "        \"cacheNodeIds\" : false,\n",
       "        \"labelCol\" : \"label\",\n",
       "        \"inputFeatures\" : [ \"{\\n  \\\"name\\\" : \\\"cust_density\\\",\\n  \\\"isResponse\\\" : true,\\n  \\\"isRaw\\\" : true,\\n  \\\"uid\\\" : \\\"RealNN_000000000024\\\",\\n  \\\"typeName\\\" : \\\"com.salesforce.op.features.types.RealNN\\\",\\n  \\\"originFeatures\\\" : [ \\\"cust_density\\\" ],\\n  \\\"stages\\\" : [ ]\\n}\", \"{\\n  \\\"name\\\" : \\\"OnHour-date_col-day_of_the_week-pickup_lat-pickup_long_3-stagesApplied_OPVector_000000000009\\\",\\n  \\\"isResponse\\\" : false,\\n  \\\"isRaw\\\" : true,\\n  \\\"uid\\\" : \\\"OPVector_000000000025\\\",\\n  \\\"typeName\\\" : \\\"com.salesforce.op.features.types.OPVector\\\",\\n  \\\"originFeatures\\\" : [ \\\"OnHour-date_col-day_of_the_week-pickup_lat-pickup_long_3-stagesApplied_OPVector_000000000009\\\" ],\\n  \\\"stages\\\" : [ ]\\n}\" ],\n",
       "        \"predictionCol\" : \"prediction\",\n",
       "        \"maxMemoryInMB\" : 256,\n",
       "        \"maxBins\" : 32\n",
       "      },\n",
       "      \"ModelUID\" : \"OpDecisionTreeRegressor_000000000010\",\n",
       "      \"ModelType\" : \"OpDecisionTreeRegressor\",\n",
       "      \"MetricValues\" : [ \"com.salesforce.op.evaluators.SingleMetric\", \"{\\\"name\\\":\\\"root mean square error\\\",\\\"value\\\":9.460567494928043}\" ]\n",
       "    }, {\n",
       "      \"ModelName\" : \"OpDecisionTreeRegressor_000000000010_17\",\n",
       "      \"ModelParameters\" : {\n",
       "        \"outputFeatureName\" : \"OnHour-cust_density-date_col-day_of_the_week-pickup_lat-pickup_long_4-stagesApplied_Prediction_000000000013\",\n",
       "        \"seed\" : -56738590,\n",
       "        \"inputSchema\" : \"StructType()\",\n",
       "        \"sparkMlStage\" : \"org.apache.spark.ml.regression.DecisionTreeRegressor\",\n",
       "        \"impurity\" : \"variance\",\n",
       "        \"featuresCol\" : \"features\",\n",
       "        \"maxDepth\" : 12,\n",
       "        \"outputMetadata\" : { },\n",
       "        \"minInstancesPerNode\" : 100,\n",
       "        \"checkpointInterval\" : 10,\n",
       "        \"minInfoGain\" : 0.1,\n",
       "        \"cacheNodeIds\" : false,\n",
       "        \"labelCol\" : \"label\",\n",
       "        \"inputFeatures\" : [ \"{\\n  \\\"name\\\" : \\\"cust_density\\\",\\n  \\\"isResponse\\\" : true,\\n  \\\"isRaw\\\" : true,\\n  \\\"uid\\\" : \\\"RealNN_000000000024\\\",\\n  \\\"typeName\\\" : \\\"com.salesforce.op.features.types.RealNN\\\",\\n  \\\"originFeatures\\\" : [ \\\"cust_density\\\" ],\\n  \\\"stages\\\" : [ ]\\n}\", \"{\\n  \\\"name\\\" : \\\"OnHour-date_col-day_of_the_week-pickup_lat-pickup_long_3-stagesApplied_OPVector_000000000009\\\",\\n  \\\"isResponse\\\" : false,\\n  \\\"isRaw\\\" : true,\\n  \\\"uid\\\" : \\\"OPVector_000000000025\\\",\\n  \\\"typeName\\\" : \\\"com.salesforce.op.features.types.OPVector\\\",\\n  \\\"originFeatures\\\" : [ \\\"OnHour-date_col-day_of_the_week-pickup_lat-pickup_long_3-stagesApplied_OPVector_000000000009\\\" ],\\n  \\\"stages\\\" : [ ]\\n}\" ],\n",
       "        \"predictionCol\" : \"prediction\",\n",
       "        \"maxMemoryInMB\" : 256,\n",
       "        \"maxBins\" : 32\n",
       "      },\n",
       "      \"ModelUID\" : \"OpDecisionTreeRegressor_000000000010\",\n",
       "      \"ModelType\" : \"OpDecisionTreeRegressor\",\n",
       "      \"MetricValues\" : [ \"com.salesforce.op.evaluators.SingleMetric\", \"{\\\"name\\\":\\\"root mean square error\\\",\\\"value\\\":8.847823141087972}\" ]\n",
       "    } ],\n",
       "    \"ValidationType\" : \"CrossValidation\",\n",
       "    \"BestModelType\" : \"OpDecisionTreeRegressor\",\n",
       "    \"DataPrepParameters\" : {\n",
       "      \"labelColumnName\" : \"cust_density\",\n",
       "      \"reserveTestFraction\" : 0.1,\n",
       "      \"seed\" : 42\n",
       "    },\n",
       "    \"BestModelName\" : \"OpDecisionTreeRegressor_000000000010_2\",\n",
       "    \"HoldoutEvaluation\" : [ \"com.salesforce.op.evaluators.MultiMetrics\", \"{\\\"metrics\\\":{\\\"regression evaluation metrics\\\":{\\\"RootMeanSquaredError\\\":8.733578668952475,\\\"MeanSquaredError\\\":76.27539636678169,\\\"R2\\\":0.4663235544710259,\\\"MeanAbsoluteError\\\":5.155791518430943}}}\" ],\n",
       "    \"ValidationParameters\" : {\n",
       "      \"parallelism\" : 8,\n",
       "      \"seed\" : 42,\n",
       "      \"evaluator\" : \"root mean square error\",\n",
       "      \"stratify\" : false,\n",
       "      \"numFolds\" : 3\n",
       "    },\n",
       "    \"ProblemType\" : \"Regression\",\n",
       "    \"EvaluationMetric\" : \"RootMeanSquaredError\",\n",
       "    \"TrainEvaluation\" : [ \"com.salesforce.op.evaluators.MultiMetrics\", \"{\\\"metrics\\\":{\\\"regression evaluation metrics\\\":{\\\"RootMeanSquaredError\\\":8.478665244051559,\\\"MeanSquaredError\\\":71.8877643206879,\\\"R2\\\":0.4718134059270177,\\\"MeanAbsoluteError\\\":5.119533017806129}}}\" ],\n",
       "    \"DataPrepResults\" : {\n",
       "      \"className\" : \"com.salesforce.op.stages.impl.tuning.DataSplitterSummary\"\n",
       "    },\n",
       "    \"BestModelUID\" : \"OpDecisionTreeRegressor_000000000010\"\n",
       "  }\n",
       "}"
      ]
     },
     "execution_count": 35,
     "metadata": {},
     "output_type": "execute_result"
    }
   ],
   "source": [
    "workflowModel.summary()"
   ]
  },
  {
   "cell_type": "code",
   "execution_count": 36,
   "metadata": {},
   "outputs": [
    {
     "data": {
      "text/plain": [
       "null"
      ]
     },
     "execution_count": 36,
     "metadata": {},
     "output_type": "execute_result"
    }
   ],
   "source": [
    "// //Code to save the predicted target column in a separate file\n",
    "// val dfScoreMod = dfScore.rdd.map(x => x(2).toString.split(\"->\")(1).\n",
    "//     dropRight(1).dropRight(1))\n",
    "// dfScoreMod.foreach(println)\n",
    "// // dfScoreMod.saveAsTextFile(\"./output/taxi_prediction\")\n",
    "// dfScoreMod.saveAsTextFile(\"./output/taxi_prediction\")"
   ]
  },
  {
   "cell_type": "code",
   "execution_count": null,
   "metadata": {},
   "outputs": [],
   "source": []
  },
  {
   "cell_type": "markdown",
   "metadata": {},
   "source": [
    "### Score and evaluate the model"
   ]
  },
  {
   "cell_type": "code",
   "execution_count": 38,
   "metadata": {},
   "outputs": [
    {
     "data": {
      "text/plain": [
       "null"
      ]
     },
     "execution_count": 38,
     "metadata": {},
     "output_type": "execute_result"
    }
   ],
   "source": [
    "val (scores, metrics) = workflowModel.scoreAndEvaluate(evaluator)\n",
    "scores.show(true)"
   ]
  },
  {
   "cell_type": "code",
   "execution_count": null,
   "metadata": {},
   "outputs": [],
   "source": []
  },
  {
   "cell_type": "code",
   "execution_count": 138,
   "metadata": {},
   "outputs": [
    {
     "data": {
      "text/plain": [
       "[key: string, total_amount: double ... 1 more field]"
      ]
     },
     "execution_count": 138,
     "metadata": {},
     "output_type": "execute_result"
    }
   ],
   "source": [
    "val scoredTrainData = workflowModel.score()"
   ]
  },
  {
   "cell_type": "code",
   "execution_count": 39,
   "metadata": {},
   "outputs": [
    {
     "ename": "<console>",
     "evalue": "126",
     "output_type": "error",
     "traceback": [
      "\u001b[1;31m<console>:126: error: not found: type Taxi\u001b[0;0m",
      "\u001b[1;31m       val testDataReader = DataReaders.Simple.csvCase[Taxi](path = Some(\"/home/whirldata/Videos/TransmogrifAI/helloworld/notebooks/testing.csv\"))\u001b[0;0m",
      "\u001b[1;31m                                                       ^\u001b[0;0m",
      "\u001b[1;31m<console>:126: error: not found: value path\u001b[0;0m",
      "\u001b[1;31m       val testDataReader = DataReaders.Simple.csvCase[Taxi](path = Some(\"/home/whirldata/Videos/TransmogrifAI/helloworld/notebooks/testing.csv\"))\u001b[0;0m",
      "\u001b[1;31m                                                             ^\u001b[0;0m"
     ]
    }
   ],
   "source": [
    "// //Loading our own test data to predict the column values..............\n",
    "// val testDataReader = DataReaders.Simple.csvCase[Taxi](path = Some(\"/home/whirldata/Videos/TransmogrifAI/helloworld/notebooks/testing.csv\")) \n",
    "// val scoredTestData = workflowModel.setReader(testDataReader).score()"
   ]
  },
  {
   "cell_type": "code",
   "execution_count": 40,
   "metadata": {},
   "outputs": [
    {
     "data": {
      "text/plain": [
       "{\n",
       "  \"RootMeanSquaredError\" : 4.512998821812766,\n",
       "  \"MeanSquaredError\" : 20.367158365683412,\n",
       "  \"R2\" : 0.015603752262764004,\n",
       "  \"MeanAbsoluteError\" : 3.9139585980963303\n",
       "}"
      ]
     },
     "execution_count": 40,
     "metadata": {},
     "output_type": "execute_result"
    }
   ],
   "source": [
    "metrics.toString()"
   ]
  },
  {
   "cell_type": "code",
   "execution_count": null,
   "metadata": {},
   "outputs": [],
   "source": []
  },
  {
   "cell_type": "code",
   "execution_count": null,
   "metadata": {},
   "outputs": [],
   "source": []
  }
 ],
 "metadata": {
  "kernelspec": {
   "display_name": "Scala",
   "language": "scala",
   "name": "scala"
  },
  "language_info": {
   "codemirror_mode": "text/x-scala",
   "file_extension": ".scala",
   "mimetype": "",
   "name": "Scala",
   "nbconverter_exporter": "",
   "version": "2.11.12"
  },
  "toc": {
   "base_numbering": 1,
   "nav_menu": {},
   "number_sections": false,
   "sideBar": false,
   "skip_h1_title": false,
   "title_cell": "Table of Contents",
   "title_sidebar": "Contents",
   "toc_cell": false,
   "toc_position": {},
   "toc_section_display": false,
   "toc_window_display": false
  }
 },
 "nbformat": 4,
 "nbformat_minor": 2
}
